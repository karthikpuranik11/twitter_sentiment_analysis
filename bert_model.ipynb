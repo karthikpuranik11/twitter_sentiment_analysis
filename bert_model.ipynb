{
 "cells": [
  {
   "cell_type": "code",
   "execution_count": 1,
   "metadata": {
    "_cell_guid": "b1076dfc-b9ad-4769-8c92-a6c4dae69d19",
    "_uuid": "8f2839f25d086af736a60e9eeb907d3b93b6e0e5",
    "execution": {
     "iopub.execute_input": "2020-10-03T16:37:40.784085Z",
     "iopub.status.busy": "2020-10-03T16:37:40.783348Z",
     "iopub.status.idle": "2020-10-03T16:37:40.790886Z",
     "shell.execute_reply": "2020-10-03T16:37:40.790347Z"
    },
    "papermill": {
     "duration": 0.033924,
     "end_time": "2020-10-03T16:37:40.790996",
     "exception": false,
     "start_time": "2020-10-03T16:37:40.757072",
     "status": "completed"
    },
    "tags": []
   },
   "outputs": [
    {
     "name": "stdout",
     "output_type": "stream",
     "text": [
      "/kaggle/input/twitter-sentiment-analysis-hatred-speech/test.csv\n",
      "/kaggle/input/twitter-sentiment-analysis-hatred-speech/train.csv\n"
     ]
    }
   ],
   "source": [
    "# This Python 3 environment comes with many helpful analytics libraries installed\n",
    "# It is defined by the kaggle/python Docker image: https://github.com/kaggle/docker-python\n",
    "# For example, here's several helpful packages to load\n",
    "\n",
    "import numpy as np # linear algebra\n",
    "import pandas as pd # data processing, CSV file I/O (e.g. pd.read_csv)\n",
    "\n",
    "# Input data files are available in the read-only \"../input/\" directory\n",
    "# For example, running this (by clicking run or pressing Shift+Enter) will list all files under the input directory\n",
    "\n",
    "import os\n",
    "for dirname, _, filenames in os.walk('/kaggle/input'):\n",
    "    for filename in filenames:\n",
    "        print(os.path.join(dirname, filename))\n",
    "\n",
    "# You can write up to 5GB to the current directory (/kaggle/working/) that gets preserved as output when you create a version using \"Save & Run All\" \n",
    "# You can also write temporary files to /kaggle/temp/, but they won't be saved outside of the current session"
   ]
  },
  {
   "cell_type": "code",
   "execution_count": 2,
   "metadata": {
    "_cell_guid": "79c7e3d0-c299-4dcb-8224-4455121ee9b0",
    "_uuid": "d629ff2d2480ee46fbb7e2d37f6b5fab8052498a",
    "execution": {
     "iopub.execute_input": "2020-10-03T16:37:40.836474Z",
     "iopub.status.busy": "2020-10-03T16:37:40.835838Z",
     "iopub.status.idle": "2020-10-03T16:37:40.936640Z",
     "shell.execute_reply": "2020-10-03T16:37:40.935170Z"
    },
    "papermill": {
     "duration": 0.126397,
     "end_time": "2020-10-03T16:37:40.936775",
     "exception": false,
     "start_time": "2020-10-03T16:37:40.810378",
     "status": "completed"
    },
    "tags": []
   },
   "outputs": [],
   "source": [
    "train=pd.read_csv('/kaggle/input/twitter-sentiment-analysis-hatred-speech/train.csv')\n",
    "test=pd.read_csv('/kaggle/input/twitter-sentiment-analysis-hatred-speech/test.csv')"
   ]
  },
  {
   "cell_type": "code",
   "execution_count": 3,
   "metadata": {
    "execution": {
     "iopub.execute_input": "2020-10-03T16:37:41.022294Z",
     "iopub.status.busy": "2020-10-03T16:37:41.001795Z",
     "iopub.status.idle": "2020-10-03T16:37:41.079771Z",
     "shell.execute_reply": "2020-10-03T16:37:41.080533Z"
    },
    "papermill": {
     "duration": 0.125045,
     "end_time": "2020-10-03T16:37:41.080714",
     "exception": false,
     "start_time": "2020-10-03T16:37:40.955669",
     "status": "completed"
    },
    "tags": []
   },
   "outputs": [
    {
     "name": "stdout",
     "output_type": "stream",
     "text": [
      "          id  label                                              tweet\n",
      "0          1      0   @user when a father is dysfunctional and is s...\n",
      "1          2      0  @user @user thanks for lyft credit i can't use...\n",
      "2          3      0                                bihday your majesty\n",
      "3          4      0  model   i love u take with u all the time in u...\n",
      "4          5      0              factsguide: society now    motivation\n",
      "...      ...    ...                                                ...\n",
      "31957  31958      0  ate @user isz that youuu?ðððððð...\n",
      "31958  31959      0    to see nina turner on the airwaves trying to...\n",
      "31959  31960      0  listening to sad songs on a monday morning otw...\n",
      "31960  31961      1  @user sikh temple vandalised in in calgary, ws...\n",
      "31961  31962      0                   thank you @user for you follow  \n",
      "\n",
      "[31962 rows x 3 columns]\n",
      "          id                                              tweet\n",
      "0      31963  studiolife aislife requires passion dedication...\n",
      "1      31964   @user white supremacists want everyone to see...\n",
      "2      31965  safe ways to heal your acne!!    altwaystoheal...\n",
      "3      31966  is the hp and the cursed child book up for res...\n",
      "4      31967    3rd bihday to my amazing, hilarious nephew e...\n",
      "...      ...                                                ...\n",
      "17192  49155  thought factory: left-right polarisation! trum...\n",
      "17193  49156  feeling like a mermaid ð hairflip neverread...\n",
      "17194  49157  hillary campaigned today in ohio((omg)) &amp; ...\n",
      "17195  49158  happy, at work conference: right mindset leads...\n",
      "17196  49159  my   song \"so glad\" free download!  shoegaze n...\n",
      "\n",
      "[17197 rows x 2 columns]\n"
     ]
    }
   ],
   "source": [
    "def punc(df):\n",
    "    df['tweet'] = df['tweet'].str.replace('[#]','')\n",
    "    print(df)\n",
    "punc(train)\n",
    "punc(test)"
   ]
  },
  {
   "cell_type": "code",
   "execution_count": 4,
   "metadata": {
    "execution": {
     "iopub.execute_input": "2020-10-03T16:37:41.128561Z",
     "iopub.status.busy": "2020-10-03T16:37:41.127826Z",
     "iopub.status.idle": "2020-10-03T16:37:48.755584Z",
     "shell.execute_reply": "2020-10-03T16:37:48.756181Z"
    },
    "papermill": {
     "duration": 7.653854,
     "end_time": "2020-10-03T16:37:48.756332",
     "exception": false,
     "start_time": "2020-10-03T16:37:41.102478",
     "status": "completed"
    },
    "tags": []
   },
   "outputs": [
    {
     "name": "stdout",
     "output_type": "stream",
     "text": [
      "          id                                              tweet\n",
      "0      31963  [studiolife, aislife, requires, passion, dedic...\n",
      "1      31964  [white, supremacists, want, everyone, to, see,...\n",
      "2      31965  [safe, ways, to, heal, your, acne, !, !, altwa...\n",
      "3      31966  [is, the, hp, and, the, cursed, child, book, u...\n",
      "4      31967  [3rd, bihday, to, my, amazing, ,, hilarious, n...\n",
      "...      ...                                                ...\n",
      "17192  49155  [thought, factory, :, left-right, polarisation...\n",
      "17193  49156  [feeling, like, a, mermaid, ð, , , , hairfl...\n",
      "17194  49157  [hillary, campaigned, today, in, ohio, (, (, o...\n",
      "17195  49158  [happy, ,, at, work, conference, :, right, min...\n",
      "17196  49159  [my, song, \", so, glad, \", free, download, !, ...\n",
      "\n",
      "[17197 rows x 2 columns]\n",
      "          id  label                                              tweet\n",
      "0          1      0  [when, a, father, is, dysfunctional, and, is, ...\n",
      "1          2      0  [thanks, for, lyft, credit, i, can't, use, cau...\n",
      "2          3      0                            [bihday, your, majesty]\n",
      "3          4      0  [model, i, love, u, take, with, u, all, the, t...\n",
      "4          5      0          [factsguide, :, society, now, motivation]\n",
      "...      ...    ...                                                ...\n",
      "31957  31958      0  [ate, isz, that, youuu, ?, ð, , , , ð, , ...\n",
      "31958  31959      0  [to, see, nina, turner, on, the, airwaves, try...\n",
      "31959  31960      0  [listening, to, sad, songs, on, a, monday, mor...\n",
      "31960  31961      1  [sikh, temple, vandalised, in, in, calgary, ,,...\n",
      "31961  31962      0                     [thank, you, for, you, follow]\n",
      "\n",
      "[31962 rows x 3 columns]\n"
     ]
    }
   ],
   "source": [
    "import nltk\n",
    "from nltk.tokenize import TweetTokenizer\n",
    "def tokenizer(df):\n",
    "    tknzr = TweetTokenizer(strip_handles=True)\n",
    "    df['tweet']= df['tweet'].apply(lambda x: tknzr.tokenize(x))\n",
    "    print(df)\n",
    "    \n",
    "tokenizer(test)\n",
    "tokenizer(train)"
   ]
  },
  {
   "cell_type": "code",
   "execution_count": 5,
   "metadata": {
    "execution": {
     "iopub.execute_input": "2020-10-03T16:37:48.811569Z",
     "iopub.status.busy": "2020-10-03T16:37:48.810811Z",
     "iopub.status.idle": "2020-10-03T16:37:50.993311Z",
     "shell.execute_reply": "2020-10-03T16:37:50.992792Z"
    },
    "papermill": {
     "duration": 2.215157,
     "end_time": "2020-10-03T16:37:50.993416",
     "exception": false,
     "start_time": "2020-10-03T16:37:48.778259",
     "status": "completed"
    },
    "tags": []
   },
   "outputs": [
    {
     "name": "stdout",
     "output_type": "stream",
     "text": [
      "          id  label                                              tweet\n",
      "0          1      0  [father, dysfunctional, selfish, drags, kids, ...\n",
      "1          2      0  [thanks, lyft, credit, can't, use, cause, offe...\n",
      "2          3      0                                  [bihday, majesty]\n",
      "3          4      0  [model, love, u, take, u, time, urð, , , ±, ...\n",
      "4          5      0               [factsguide, :, society, motivation]\n",
      "...      ...    ...                                                ...\n",
      "31957  31958      0  [ate, isz, youuu, ?, ð, , , , ð, , , , ð...\n",
      "31958  31959      0  [see, nina, turner, airwaves, trying, wrap, ma...\n",
      "31959  31960      0  [listening, sad, songs, monday, morning, otw, ...\n",
      "31960  31961      1  [sikh, temple, vandalised, calgary, ,, wso, co...\n",
      "31961  31962      0                                    [thank, follow]\n",
      "\n",
      "[31962 rows x 3 columns]\n",
      "          id                                              tweet\n",
      "0      31963  [studiolife, aislife, requires, passion, dedic...\n",
      "1      31964  [white, supremacists, want, everyone, see, new...\n",
      "2      31965  [safe, ways, heal, acne, !, !, altwaystoheal, ...\n",
      "3      31966  [hp, cursed, child, book, reservations, alread...\n",
      "4      31967  [3rd, bihday, amazing, ,, hilarious, nephew, e...\n",
      "...      ...                                                ...\n",
      "17192  49155  [thought, factory, :, left-right, polarisation...\n",
      "17193  49156  [feeling, like, mermaid, ð, , , , hairflip,...\n",
      "17194  49157  [hillary, campaigned, today, ohio, (, (, omg, ...\n",
      "17195  49158  [happy, ,, work, conference, :, right, mindset...\n",
      "17196  49159  [song, \", glad, \", free, download, !, shoegaze...\n",
      "\n",
      "[17197 rows x 2 columns]\n"
     ]
    }
   ],
   "source": [
    "import nltk\n",
    "from nltk.corpus import stopwords\n",
    "stop=stopwords.words(\"english\")\n",
    "def stop_words(df):\n",
    "    df['tweet']=df['tweet'].apply(lambda x: [i.lower() for i in x if i not in stop])\n",
    "    print(df)\n",
    "stop_words(train)\n",
    "stop_words(test)"
   ]
  },
  {
   "cell_type": "code",
   "execution_count": 6,
   "metadata": {
    "execution": {
     "iopub.execute_input": "2020-10-03T16:37:51.058561Z",
     "iopub.status.busy": "2020-10-03T16:37:51.048306Z",
     "iopub.status.idle": "2020-10-03T16:37:52.069592Z",
     "shell.execute_reply": "2020-10-03T16:37:52.070462Z"
    },
    "papermill": {
     "duration": 1.055534,
     "end_time": "2020-10-03T16:37:52.070662",
     "exception": false,
     "start_time": "2020-10-03T16:37:51.015128",
     "status": "completed"
    },
    "tags": []
   },
   "outputs": [
    {
     "name": "stdout",
     "output_type": "stream",
     "text": [
      "          id  label                                              tweet\n",
      "0          1      0  [father, dysfunctional, selfish, drags, kids, ...\n",
      "1          2      0  [thanks, lyft, credit, can't, cause, offer, wh...\n",
      "2          3      0                                  [bihday, majesty]\n",
      "3          4      0                          [model, love, take, time]\n",
      "4          5      0                  [factsguide, society, motivation]\n",
      "...      ...    ...                                                ...\n",
      "31957  31958      0                                            [youuu]\n",
      "31958  31959      0  [nina, turner, airwaves, trying, wrap, mantle,...\n",
      "31959  31960      0          [listening, songs, monday, morning, work]\n",
      "31960  31961      1      [sikh, temple, vandalised, calgary, condemns]\n",
      "31961  31962      0                                    [thank, follow]\n",
      "\n",
      "[31962 rows x 3 columns]\n",
      "          id                                              tweet\n",
      "0      31963  [studiolife, aislife, requires, passion, dedic...\n",
      "1      31964  [white, supremacists, want, everyone, birdsâ, ...\n",
      "2      31965  [safe, ways, heal, acne, altwaystoheal, health...\n",
      "3      31966  [cursed, child, book, reservations, already, h...\n",
      "4      31967  [bihday, amazing, hilarious, nephew, ahmir, un...\n",
      "...      ...                                                ...\n",
      "17192  49155  [thought, factory, left-right, polarisation, t...\n",
      "17193  49156  [feeling, like, mermaid, hairflip, neverready,...\n",
      "17194  49157  [hillary, campaigned, today, ohio, used, words...\n",
      "17195  49158  [happy, work, conference, right, mindset, lead...\n",
      "17196  49159  [song, glad, free, download, shoegaze, newmusi...\n",
      "\n",
      "[17197 rows x 2 columns]\n"
     ]
    }
   ],
   "source": [
    "import re\n",
    "def clean(df):\n",
    "    df['tweet']=df['tweet'].apply(lambda x: [i for i in x if not re.match('[^\\w\\s]',i) and len(i)>3])\n",
    "    print(df)\n",
    "clean(train)\n",
    "clean(test)"
   ]
  },
  {
   "cell_type": "code",
   "execution_count": 7,
   "metadata": {
    "execution": {
     "iopub.execute_input": "2020-10-03T16:37:52.126344Z",
     "iopub.status.busy": "2020-10-03T16:37:52.125589Z",
     "iopub.status.idle": "2020-10-03T16:38:11.879755Z",
     "shell.execute_reply": "2020-10-03T16:38:11.880539Z"
    },
    "papermill": {
     "duration": 19.786207,
     "end_time": "2020-10-03T16:38:11.880777",
     "exception": false,
     "start_time": "2020-10-03T16:37:52.094570",
     "status": "completed"
    },
    "tags": []
   },
   "outputs": [
    {
     "name": "stdout",
     "output_type": "stream",
     "text": [
      "          id  label                                              tweet\n",
      "0          1      0          father dysfunct selfish drag kid dysfunct\n",
      "1          2      0  thank lyft credit can't caus offer wheelchair ...\n",
      "2          3      0                                     bihday majesti\n",
      "3          4      0                               model love take time\n",
      "4          5      0                            factsguid societi motiv\n",
      "...      ...    ...                                                ...\n",
      "31957  31958      0                                              youuu\n",
      "31958  31959      0  nina turner airwav tri wrap mantl genuin hero ...\n",
      "31959  31960      0                       listen song monday morn work\n",
      "31960  31961      1                sikh templ vandalis calgari condemn\n",
      "31961  31962      0                                       thank follow\n",
      "\n",
      "[31962 rows x 3 columns]\n",
      "          id                                              tweet\n",
      "0      31963  studiolif aislif requir passion dedic willpow ...\n",
      "1      31964   white supremacist want everyon birdsâ movi hereâ\n",
      "2      31965          safe way heal acn altwaystoh healthi heal\n",
      "3      31966  cur child book reserv alreadi harrypott potter...\n",
      "4      31967  bihday amaz hilari nephew ahmir uncl dave love...\n",
      "...      ...                                                ...\n",
      "17192  49155  thought factori left-right polaris trump usele...\n",
      "17193  49156  feel like mermaid hairflip neverreadi formal w...\n",
      "17194  49157  hillari campaign today ohio use word like asse...\n",
      "17195  49158  happi work confer right mindset lead culture-o...\n",
      "17196  49159     song glad free download shoegaz newmus newsong\n",
      "\n",
      "[17197 rows x 2 columns]\n"
     ]
    }
   ],
   "source": [
    "from nltk.stem import PorterStemmer\n",
    "from textblob import Word\n",
    "st = PorterStemmer()\n",
    "def stemnlemm(df):\n",
    "    df['tweet']=df['tweet'].apply(lambda x: ' '.join([Word(st.stem(i)).lemmatize() for i in x]))\n",
    "    print(df)\n",
    "stemnlemm(train)\n",
    "stemnlemm(test)"
   ]
  },
  {
   "cell_type": "code",
   "execution_count": 8,
   "metadata": {
    "execution": {
     "iopub.execute_input": "2020-10-03T16:38:11.935502Z",
     "iopub.status.busy": "2020-10-03T16:38:11.934795Z",
     "iopub.status.idle": "2020-10-03T16:38:11.938593Z",
     "shell.execute_reply": "2020-10-03T16:38:11.938080Z"
    },
    "papermill": {
     "duration": 0.033556,
     "end_time": "2020-10-03T16:38:11.938707",
     "exception": false,
     "start_time": "2020-10-03T16:38:11.905151",
     "status": "completed"
    },
    "tags": []
   },
   "outputs": [],
   "source": [
    "X_train=pd.DataFrame(train['tweet'])\n",
    "Y_train=pd.DataFrame(train['label'])"
   ]
  },
  {
   "cell_type": "code",
   "execution_count": 9,
   "metadata": {
    "execution": {
     "iopub.execute_input": "2020-10-03T16:38:12.033285Z",
     "iopub.status.busy": "2020-10-03T16:38:12.007835Z",
     "iopub.status.idle": "2020-10-03T16:38:12.220468Z",
     "shell.execute_reply": "2020-10-03T16:38:12.219913Z"
    },
    "papermill": {
     "duration": 0.258289,
     "end_time": "2020-10-03T16:38:12.220573",
     "exception": false,
     "start_time": "2020-10-03T16:38:11.962284",
     "status": "completed"
    },
    "tags": []
   },
   "outputs": [],
   "source": [
    "from sklearn.model_selection import train_test_split\n",
    "x_train,x_test,y_train,y_test = train_test_split(X_train,Y_train,random_state = 0 , stratify = Y_train)"
   ]
  },
  {
   "cell_type": "code",
   "execution_count": 10,
   "metadata": {
    "execution": {
     "iopub.execute_input": "2020-10-03T16:38:12.279101Z",
     "iopub.status.busy": "2020-10-03T16:38:12.278254Z",
     "iopub.status.idle": "2020-10-03T16:38:12.282394Z",
     "shell.execute_reply": "2020-10-03T16:38:12.282875Z"
    },
    "papermill": {
     "duration": 0.037438,
     "end_time": "2020-10-03T16:38:12.282988",
     "exception": false,
     "start_time": "2020-10-03T16:38:12.245550",
     "status": "completed"
    },
    "tags": []
   },
   "outputs": [
    {
     "data": {
      "text/plain": [
       "1651                                    habit realli coupl\n",
       "3716     toptag day top.tag smile instahappi goodmood s...\n",
       "8374     blog comment claim senad lulic statement racis...\n",
       "22973                          thank abl choos thank posit\n",
       "1889              week overal everi matt heard anoth death\n",
       "                               ...                        \n",
       "23458    decid becom feminist begin feminist read help ...\n",
       "25950                             founat i_am posit affirm\n",
       "23134                             happi altwaystoh healthi\n",
       "9363                                     long avivatw 2016\n",
       "30510       miss paint creat regatt orlando prayfororlando\n",
       "Name: tweet, Length: 23971, dtype: object"
      ]
     },
     "execution_count": 10,
     "metadata": {},
     "output_type": "execute_result"
    }
   ],
   "source": [
    "x_train=x_train['tweet']\n",
    "x_train"
   ]
  },
  {
   "cell_type": "code",
   "execution_count": 11,
   "metadata": {
    "execution": {
     "iopub.execute_input": "2020-10-03T16:38:12.338492Z",
     "iopub.status.busy": "2020-10-03T16:38:12.337916Z",
     "iopub.status.idle": "2020-10-03T16:38:12.344183Z",
     "shell.execute_reply": "2020-10-03T16:38:12.343713Z"
    },
    "papermill": {
     "duration": 0.036904,
     "end_time": "2020-10-03T16:38:12.344280",
     "exception": false,
     "start_time": "2020-10-03T16:38:12.307376",
     "status": "completed"
    },
    "tags": []
   },
   "outputs": [
    {
     "data": {
      "text/plain": [
       "1651     0\n",
       "3716     0\n",
       "8374     1\n",
       "22973    0\n",
       "1889     0\n",
       "        ..\n",
       "23458    1\n",
       "25950    0\n",
       "23134    0\n",
       "9363     0\n",
       "30510    0\n",
       "Name: label, Length: 23971, dtype: int64"
      ]
     },
     "execution_count": 11,
     "metadata": {},
     "output_type": "execute_result"
    }
   ],
   "source": [
    "y_train=y_train['label']\n",
    "y_train\n"
   ]
  },
  {
   "cell_type": "code",
   "execution_count": 12,
   "metadata": {
    "execution": {
     "iopub.execute_input": "2020-10-03T16:38:12.401510Z",
     "iopub.status.busy": "2020-10-03T16:38:12.400746Z",
     "iopub.status.idle": "2020-10-03T16:38:20.400369Z",
     "shell.execute_reply": "2020-10-03T16:38:20.400945Z"
    },
    "papermill": {
     "duration": 8.030449,
     "end_time": "2020-10-03T16:38:20.401098",
     "exception": false,
     "start_time": "2020-10-03T16:38:12.370649",
     "status": "completed"
    },
    "tags": []
   },
   "outputs": [
    {
     "name": "stderr",
     "output_type": "stream",
     "text": [
      "\u001b[34m\u001b[1mwandb\u001b[0m: \u001b[33mWARNING\u001b[0m W&B installed but not logged in.  Run `wandb login` or set the WANDB_API_KEY env variable.\n"
     ]
    },
    {
     "data": {
      "application/vnd.jupyter.widget-view+json": {
       "model_id": "26adb3927db04131a507f304633c40d4",
       "version_major": 2,
       "version_minor": 0
      },
      "text/plain": [
       "HBox(children=(FloatProgress(value=0.0, description='Downloading', max=231508.0, style=ProgressStyle(descripti…"
      ]
     },
     "metadata": {},
     "output_type": "display_data"
    },
    {
     "name": "stdout",
     "output_type": "stream",
     "text": [
      "\n"
     ]
    },
    {
     "data": {
      "text/plain": [
       "Tokenizer(vocabulary_size=30522, model=BertWordPiece, unk_token=[UNK], sep_token=[SEP], cls_token=[CLS], pad_token=[PAD], mask_token=[MASK], clean_text=True, handle_chinese_chars=True, strip_accents=True, lowercase=True, wordpieces_prefix=##)"
      ]
     },
     "execution_count": 12,
     "metadata": {},
     "output_type": "execute_result"
    }
   ],
   "source": [
    "import transformers\n",
    "from tokenizers import BertWordPieceTokenizer\n",
    "# First load the real tokenizer\n",
    "tokenizer = transformers.DistilBertTokenizer.from_pretrained('distilbert-base-uncased' , lower = True)\n",
    "# Save the loaded tokenizer locally\n",
    "tokenizer.save_pretrained('.')\n",
    "# Reload it with the huggingface tokenizers library\n",
    "fast_tokenizer = BertWordPieceTokenizer('vocab.txt', lowercase=True)\n",
    "fast_tokenizer"
   ]
  },
  {
   "cell_type": "code",
   "execution_count": 13,
   "metadata": {
    "execution": {
     "iopub.execute_input": "2020-10-03T16:38:20.462950Z",
     "iopub.status.busy": "2020-10-03T16:38:20.462233Z",
     "iopub.status.idle": "2020-10-03T16:38:20.465851Z",
     "shell.execute_reply": "2020-10-03T16:38:20.466282Z"
    },
    "papermill": {
     "duration": 0.038136,
     "end_time": "2020-10-03T16:38:20.466426",
     "exception": false,
     "start_time": "2020-10-03T16:38:20.428290",
     "status": "completed"
    },
    "tags": []
   },
   "outputs": [],
   "source": [
    "def fast_encode(texts, tokenizer, chunk_size=256, maxlen=400):\n",
    "\n",
    "    tokenizer.enable_truncation(max_length=maxlen)\n",
    "    tokenizer.enable_padding(max_length=maxlen)\n",
    "    all_ids = []\n",
    "    \n",
    "    for i in range(0, len(texts), chunk_size):\n",
    "        text_chunk = texts[i:i+chunk_size].tolist()\n",
    "        encs = tokenizer.encode_batch(text_chunk)\n",
    "        all_ids.extend([enc.ids for enc in encs])\n",
    "    \n",
    "    return np.array(all_ids)"
   ]
  },
  {
   "cell_type": "code",
   "execution_count": 14,
   "metadata": {
    "execution": {
     "iopub.execute_input": "2020-10-03T16:38:20.530961Z",
     "iopub.status.busy": "2020-10-03T16:38:20.529537Z",
     "iopub.status.idle": "2020-10-03T16:38:20.533328Z",
     "shell.execute_reply": "2020-10-03T16:38:20.533810Z"
    },
    "papermill": {
     "duration": 0.039824,
     "end_time": "2020-10-03T16:38:20.533924",
     "exception": false,
     "start_time": "2020-10-03T16:38:20.494100",
     "status": "completed"
    },
    "tags": []
   },
   "outputs": [
    {
     "data": {
      "text/plain": [
       "22784                                    thank thank posit\n",
       "11698                               milfmonday superð pfyp\n",
       "6107                            thank good hug thank posit\n",
       "2755                                 can't wait find dorið\n",
       "14269                              retweet texaskat 4trump\n",
       "                               ...                        \n",
       "18131       nomnom kidsset poion like adult aeon mall citi\n",
       "7920       life' ride nashvil well healthi travel adventur\n",
       "21199                                              tonight\n",
       "18785    here' collect coverag women-rel issu womensiss...\n",
       "11009      wonder voter turnout peopl know democraci illus\n",
       "Name: tweet, Length: 7991, dtype: object"
      ]
     },
     "execution_count": 14,
     "metadata": {},
     "output_type": "execute_result"
    }
   ],
   "source": [
    "x_test=x_test['tweet']\n",
    "x_test"
   ]
  },
  {
   "cell_type": "code",
   "execution_count": 15,
   "metadata": {
    "execution": {
     "iopub.execute_input": "2020-10-03T16:38:20.597738Z",
     "iopub.status.busy": "2020-10-03T16:38:20.597081Z",
     "iopub.status.idle": "2020-10-03T16:38:20.603432Z",
     "shell.execute_reply": "2020-10-03T16:38:20.602869Z"
    },
    "papermill": {
     "duration": 0.040626,
     "end_time": "2020-10-03T16:38:20.603561",
     "exception": false,
     "start_time": "2020-10-03T16:38:20.562935",
     "status": "completed"
    },
    "tags": []
   },
   "outputs": [
    {
     "data": {
      "text/plain": [
       "22784    0\n",
       "11698    0\n",
       "6107     0\n",
       "2755     0\n",
       "14269    0\n",
       "        ..\n",
       "18131    0\n",
       "7920     0\n",
       "21199    0\n",
       "18785    1\n",
       "11009    0\n",
       "Name: label, Length: 7991, dtype: int64"
      ]
     },
     "execution_count": 15,
     "metadata": {},
     "output_type": "execute_result"
    }
   ],
   "source": [
    "y_test=y_test['label']\n",
    "y_test"
   ]
  },
  {
   "cell_type": "code",
   "execution_count": 16,
   "metadata": {
    "execution": {
     "iopub.execute_input": "2020-10-03T16:38:20.734327Z",
     "iopub.status.busy": "2020-10-03T16:38:20.733624Z",
     "iopub.status.idle": "2020-10-03T16:38:25.596134Z",
     "shell.execute_reply": "2020-10-03T16:38:25.595539Z"
    },
    "papermill": {
     "duration": 4.964366,
     "end_time": "2020-10-03T16:38:25.596255",
     "exception": false,
     "start_time": "2020-10-03T16:38:20.631889",
     "status": "completed"
    },
    "tags": []
   },
   "outputs": [],
   "source": [
    "x_train = fast_encode(x_train.values, fast_tokenizer, maxlen=400)\n",
    "x_test = fast_encode(x_test.values, fast_tokenizer, maxlen=400)"
   ]
  },
  {
   "cell_type": "code",
   "execution_count": 17,
   "metadata": {
    "execution": {
     "iopub.execute_input": "2020-10-03T16:38:25.667390Z",
     "iopub.status.busy": "2020-10-03T16:38:25.666512Z",
     "iopub.status.idle": "2020-10-03T16:38:25.724111Z",
     "shell.execute_reply": "2020-10-03T16:38:25.723401Z"
    },
    "papermill": {
     "duration": 0.098353,
     "end_time": "2020-10-03T16:38:25.724226",
     "exception": false,
     "start_time": "2020-10-03T16:38:25.625873",
     "status": "completed"
    },
    "tags": []
   },
   "outputs": [],
   "source": [
    "import tensorflow as tf\n",
    "from keras.layers import LSTM,Dense,Bidirectional,Input\n",
    "from keras.models import Model\n",
    "from tensorflow.keras.preprocessing import sequence\n",
    "from tensorflow.keras.preprocessing.text import Tokenizer\n",
    "from tensorflow.keras.preprocessing.sequence import pad_sequences\n",
    "from tensorflow.keras.optimizers import Adam\n",
    "\n",
    "def build_model(transformer, max_len=400):\n",
    "    \n",
    "    input_word_ids = Input(shape=(max_len,), dtype=tf.int32, name=\"input_word_ids\")\n",
    "    sequence_output = transformer(input_word_ids)[0]\n",
    "    cls_token = sequence_output[:, 0, :]\n",
    "    out = Dense(1, activation='sigmoid')(cls_token)\n",
    "    \n",
    "    model = Model(inputs=input_word_ids, outputs=out)\n",
    "    model.compile(Adam(lr=2e-5), loss='binary_crossentropy', metrics=['accuracy'])\n",
    "    \n",
    "    return model"
   ]
  },
  {
   "cell_type": "code",
   "execution_count": 18,
   "metadata": {
    "execution": {
     "iopub.execute_input": "2020-10-03T16:38:25.787212Z",
     "iopub.status.busy": "2020-10-03T16:38:25.786547Z",
     "iopub.status.idle": "2020-10-03T16:38:52.144738Z",
     "shell.execute_reply": "2020-10-03T16:38:52.143436Z"
    },
    "papermill": {
     "duration": 26.39203,
     "end_time": "2020-10-03T16:38:52.144865",
     "exception": false,
     "start_time": "2020-10-03T16:38:25.752835",
     "status": "completed"
    },
    "tags": []
   },
   "outputs": [
    {
     "data": {
      "application/vnd.jupyter.widget-view+json": {
       "model_id": "c0eef8c97c3942c5ad3036fdb05c2da2",
       "version_major": 2,
       "version_minor": 0
      },
      "text/plain": [
       "HBox(children=(FloatProgress(value=0.0, description='Downloading', max=442.0, style=ProgressStyle(description_…"
      ]
     },
     "metadata": {},
     "output_type": "display_data"
    },
    {
     "name": "stdout",
     "output_type": "stream",
     "text": [
      "\n"
     ]
    },
    {
     "data": {
      "application/vnd.jupyter.widget-view+json": {
       "model_id": "c3d3e40948424113886448e75e9a18c2",
       "version_major": 2,
       "version_minor": 0
      },
      "text/plain": [
       "HBox(children=(FloatProgress(value=0.0, description='Downloading', max=363423424.0, style=ProgressStyle(descri…"
      ]
     },
     "metadata": {},
     "output_type": "display_data"
    },
    {
     "name": "stdout",
     "output_type": "stream",
     "text": [
      "\n"
     ]
    }
   ],
   "source": [
    "bert_model = transformers.TFDistilBertModel.from_pretrained('distilbert-base-uncased')"
   ]
  },
  {
   "cell_type": "code",
   "execution_count": 19,
   "metadata": {
    "execution": {
     "iopub.execute_input": "2020-10-03T16:38:52.220483Z",
     "iopub.status.busy": "2020-10-03T16:38:52.219193Z",
     "iopub.status.idle": "2020-10-03T16:38:54.773503Z",
     "shell.execute_reply": "2020-10-03T16:38:54.774097Z"
    },
    "papermill": {
     "duration": 2.596096,
     "end_time": "2020-10-03T16:38:54.774259",
     "exception": false,
     "start_time": "2020-10-03T16:38:52.178163",
     "status": "completed"
    },
    "tags": []
   },
   "outputs": [
    {
     "name": "stdout",
     "output_type": "stream",
     "text": [
      "Model: \"functional_1\"\n",
      "_________________________________________________________________\n",
      "Layer (type)                 Output Shape              Param #   \n",
      "=================================================================\n",
      "input_word_ids (InputLayer)  [(None, 400)]             0         \n",
      "_________________________________________________________________\n",
      "tf_distil_bert_model (TFDist ((None, 400, 768),)       66362880  \n",
      "_________________________________________________________________\n",
      "tf_op_layer_strided_slice (T [(None, 768)]             0         \n",
      "_________________________________________________________________\n",
      "dense (Dense)                (None, 1)                 769       \n",
      "=================================================================\n",
      "Total params: 66,363,649\n",
      "Trainable params: 66,363,649\n",
      "Non-trainable params: 0\n",
      "_________________________________________________________________\n"
     ]
    }
   ],
   "source": [
    "model = build_model(bert_model, max_len=400)\n",
    "model.summary()"
   ]
  },
  {
   "cell_type": "code",
   "execution_count": 20,
   "metadata": {
    "execution": {
     "iopub.execute_input": "2020-10-03T16:38:54.842270Z",
     "iopub.status.busy": "2020-10-03T16:38:54.841401Z",
     "iopub.status.idle": "2020-10-03T16:38:54.847112Z",
     "shell.execute_reply": "2020-10-03T16:38:54.846123Z"
    },
    "papermill": {
     "duration": 0.04127,
     "end_time": "2020-10-03T16:38:54.847216",
     "exception": false,
     "start_time": "2020-10-03T16:38:54.805946",
     "status": "completed"
    },
    "tags": []
   },
   "outputs": [
    {
     "data": {
      "text/plain": [
       "array([[  101, 10427,  2613, ...,     0,     0,     0],\n",
       "       [  101,  2327, 15900, ...,     0,     0,     0],\n",
       "       [  101,  9927,  7615, ...,     0,     0,     0],\n",
       "       ...,\n",
       "       [  101,  5292,  9397, ...,     0,     0,     0],\n",
       "       [  101,  2146, 12724, ...,     0,     0,     0],\n",
       "       [  101,  3335,  6773, ...,     0,     0,     0]])"
      ]
     },
     "execution_count": 20,
     "metadata": {},
     "output_type": "execute_result"
    }
   ],
   "source": [
    "x_train"
   ]
  },
  {
   "cell_type": "code",
   "execution_count": 21,
   "metadata": {
    "execution": {
     "iopub.execute_input": "2020-10-03T16:38:54.917115Z",
     "iopub.status.busy": "2020-10-03T16:38:54.916208Z",
     "iopub.status.idle": "2020-10-03T17:11:15.507577Z",
     "shell.execute_reply": "2020-10-03T17:11:15.508426Z"
    },
    "papermill": {
     "duration": 1940.630242,
     "end_time": "2020-10-03T17:11:15.508617",
     "exception": false,
     "start_time": "2020-10-03T16:38:54.878375",
     "status": "completed"
    },
    "tags": []
   },
   "outputs": [
    {
     "name": "stdout",
     "output_type": "stream",
     "text": [
      "Epoch 1/3\n",
      "750/750 [==============================] - 643s 858ms/step - loss: 0.1855 - accuracy: 0.9425 - val_loss: 0.1299 - val_accuracy: 0.9576\n",
      "Epoch 2/3\n",
      "750/750 [==============================] - 642s 855ms/step - loss: 0.1059 - accuracy: 0.9633 - val_loss: 0.1080 - val_accuracy: 0.9641\n",
      "Epoch 3/3\n",
      "750/750 [==============================] - 642s 856ms/step - loss: 0.0636 - accuracy: 0.9775 - val_loss: 0.1554 - val_accuracy: 0.9464\n"
     ]
    }
   ],
   "source": [
    "history = model.fit(x_train,y_train,batch_size = 32 ,validation_data=(x_test,y_test),epochs = 3)\n"
   ]
  },
  {
   "cell_type": "code",
   "execution_count": 22,
   "metadata": {
    "execution": {
     "iopub.execute_input": "2020-10-03T17:11:17.187700Z",
     "iopub.status.busy": "2020-10-03T17:11:17.186499Z",
     "iopub.status.idle": "2020-10-03T17:12:20.867884Z",
     "shell.execute_reply": "2020-10-03T17:12:20.867306Z"
    },
    "papermill": {
     "duration": 64.517949,
     "end_time": "2020-10-03T17:12:20.868023",
     "exception": false,
     "start_time": "2020-10-03T17:11:16.350074",
     "status": "completed"
    },
    "tags": []
   },
   "outputs": [
    {
     "name": "stdout",
     "output_type": "stream",
     "text": [
      "250/250 [==============================] - 63s 253ms/step - loss: 0.1554 - accuracy: 0.9464\n"
     ]
    },
    {
     "data": {
      "text/plain": [
       "94.64397430419922"
      ]
     },
     "execution_count": 22,
     "metadata": {},
     "output_type": "execute_result"
    }
   ],
   "source": [
    "model.evaluate(x_test,y_test)[1]*100"
   ]
  },
  {
   "cell_type": "code",
   "execution_count": 23,
   "metadata": {
    "execution": {
     "iopub.execute_input": "2020-10-03T17:12:22.725149Z",
     "iopub.status.busy": "2020-10-03T17:12:22.723952Z",
     "iopub.status.idle": "2020-10-03T17:13:26.262513Z",
     "shell.execute_reply": "2020-10-03T17:13:26.261275Z"
    },
    "papermill": {
     "duration": 64.466661,
     "end_time": "2020-10-03T17:13:26.262659",
     "exception": false,
     "start_time": "2020-10-03T17:12:21.795998",
     "status": "completed"
    },
    "tags": []
   },
   "outputs": [],
   "source": [
    "pred=model.predict(x_test)\n"
   ]
  },
  {
   "cell_type": "code",
   "execution_count": 24,
   "metadata": {
    "execution": {
     "iopub.execute_input": "2020-10-03T17:13:28.119449Z",
     "iopub.status.busy": "2020-10-03T17:13:28.118295Z",
     "iopub.status.idle": "2020-10-03T17:13:28.122035Z",
     "shell.execute_reply": "2020-10-03T17:13:28.121362Z"
    },
    "papermill": {
     "duration": 0.933504,
     "end_time": "2020-10-03T17:13:28.122150",
     "exception": false,
     "start_time": "2020-10-03T17:13:27.188646",
     "status": "completed"
    },
    "tags": []
   },
   "outputs": [],
   "source": [
    "pred = np.round(pred).astype(int)"
   ]
  },
  {
   "cell_type": "code",
   "execution_count": 25,
   "metadata": {
    "execution": {
     "iopub.execute_input": "2020-10-03T17:13:30.164857Z",
     "iopub.status.busy": "2020-10-03T17:13:30.163876Z",
     "iopub.status.idle": "2020-10-03T17:13:30.190352Z",
     "shell.execute_reply": "2020-10-03T17:13:30.191627Z"
    },
    "papermill": {
     "duration": 1.050345,
     "end_time": "2020-10-03T17:13:30.191821",
     "exception": false,
     "start_time": "2020-10-03T17:13:29.141476",
     "status": "completed"
    },
    "tags": []
   },
   "outputs": [
    {
     "data": {
      "text/plain": [
       "array([[7116,  314],\n",
       "       [ 114,  447]])"
      ]
     },
     "execution_count": 25,
     "metadata": {},
     "output_type": "execute_result"
    }
   ],
   "source": [
    "from sklearn.metrics import confusion_matrix, accuracy_score\n",
    "cm = confusion_matrix(y_test,pred)\n",
    "cm"
   ]
  },
  {
   "cell_type": "code",
   "execution_count": 26,
   "metadata": {
    "execution": {
     "iopub.execute_input": "2020-10-03T17:13:32.238931Z",
     "iopub.status.busy": "2020-10-03T17:13:32.237555Z",
     "iopub.status.idle": "2020-10-03T17:13:32.244954Z",
     "shell.execute_reply": "2020-10-03T17:13:32.245902Z"
    },
    "papermill": {
     "duration": 0.988583,
     "end_time": "2020-10-03T17:13:32.246087",
     "exception": false,
     "start_time": "2020-10-03T17:13:31.257504",
     "status": "completed"
    },
    "tags": []
   },
   "outputs": [
    {
     "name": "stdout",
     "output_type": "stream",
     "text": [
      "0.9464397447128019\n"
     ]
    }
   ],
   "source": [
    "score = accuracy_score( y_test, pred)\n",
    "print(score)"
   ]
  },
  {
   "cell_type": "code",
   "execution_count": null,
   "metadata": {
    "papermill": {
     "duration": 0.928533,
     "end_time": "2020-10-03T17:13:34.118414",
     "exception": false,
     "start_time": "2020-10-03T17:13:33.189881",
     "status": "completed"
    },
    "tags": []
   },
   "outputs": [],
   "source": []
  }
 ],
 "metadata": {
  "kernelspec": {
   "display_name": "Python 3",
   "language": "python",
   "name": "python3"
  },
  "language_info": {
   "codemirror_mode": {
    "name": "ipython",
    "version": 3
   },
   "file_extension": ".py",
   "mimetype": "text/x-python",
   "name": "python",
   "nbconvert_exporter": "python",
   "pygments_lexer": "ipython3",
   "version": "3.7.6"
  },
  "papermill": {
   "duration": 2159.866202,
   "end_time": "2020-10-03T17:13:36.286617",
   "environment_variables": {},
   "exception": null,
   "input_path": "__notebook__.ipynb",
   "output_path": "__notebook__.ipynb",
   "parameters": {},
   "start_time": "2020-10-03T16:37:36.420415",
   "version": "2.1.0"
  },
  "widgets": {
   "application/vnd.jupyter.widget-state+json": {
    "state": {
     "03d4f3f7632d4503b6df57ee511169ad": {
      "model_module": "@jupyter-widgets/base",
      "model_module_version": "1.2.0",
      "model_name": "LayoutModel",
      "state": {
       "_model_module": "@jupyter-widgets/base",
       "_model_module_version": "1.2.0",
       "_model_name": "LayoutModel",
       "_view_count": null,
       "_view_module": "@jupyter-widgets/base",
       "_view_module_version": "1.2.0",
       "_view_name": "LayoutView",
       "align_content": null,
       "align_items": null,
       "align_self": null,
       "border": null,
       "bottom": null,
       "display": null,
       "flex": null,
       "flex_flow": null,
       "grid_area": null,
       "grid_auto_columns": null,
       "grid_auto_flow": null,
       "grid_auto_rows": null,
       "grid_column": null,
       "grid_gap": null,
       "grid_row": null,
       "grid_template_areas": null,
       "grid_template_columns": null,
       "grid_template_rows": null,
       "height": null,
       "justify_content": null,
       "justify_items": null,
       "left": null,
       "margin": null,
       "max_height": null,
       "max_width": null,
       "min_height": null,
       "min_width": null,
       "object_fit": null,
       "object_position": null,
       "order": null,
       "overflow": null,
       "overflow_x": null,
       "overflow_y": null,
       "padding": null,
       "right": null,
       "top": null,
       "visibility": null,
       "width": null
      }
     },
     "12c73ea19bda4473984eeae85c9e35b9": {
      "model_module": "@jupyter-widgets/controls",
      "model_module_version": "1.5.0",
      "model_name": "DescriptionStyleModel",
      "state": {
       "_model_module": "@jupyter-widgets/controls",
       "_model_module_version": "1.5.0",
       "_model_name": "DescriptionStyleModel",
       "_view_count": null,
       "_view_module": "@jupyter-widgets/base",
       "_view_module_version": "1.2.0",
       "_view_name": "StyleView",
       "description_width": ""
      }
     },
     "145dbfe21be545188503f7de532dde6f": {
      "model_module": "@jupyter-widgets/base",
      "model_module_version": "1.2.0",
      "model_name": "LayoutModel",
      "state": {
       "_model_module": "@jupyter-widgets/base",
       "_model_module_version": "1.2.0",
       "_model_name": "LayoutModel",
       "_view_count": null,
       "_view_module": "@jupyter-widgets/base",
       "_view_module_version": "1.2.0",
       "_view_name": "LayoutView",
       "align_content": null,
       "align_items": null,
       "align_self": null,
       "border": null,
       "bottom": null,
       "display": null,
       "flex": null,
       "flex_flow": null,
       "grid_area": null,
       "grid_auto_columns": null,
       "grid_auto_flow": null,
       "grid_auto_rows": null,
       "grid_column": null,
       "grid_gap": null,
       "grid_row": null,
       "grid_template_areas": null,
       "grid_template_columns": null,
       "grid_template_rows": null,
       "height": null,
       "justify_content": null,
       "justify_items": null,
       "left": null,
       "margin": null,
       "max_height": null,
       "max_width": null,
       "min_height": null,
       "min_width": null,
       "object_fit": null,
       "object_position": null,
       "order": null,
       "overflow": null,
       "overflow_x": null,
       "overflow_y": null,
       "padding": null,
       "right": null,
       "top": null,
       "visibility": null,
       "width": null
      }
     },
     "2382ea2345464430995a76615f0126d3": {
      "model_module": "@jupyter-widgets/controls",
      "model_module_version": "1.5.0",
      "model_name": "HTMLModel",
      "state": {
       "_dom_classes": [],
       "_model_module": "@jupyter-widgets/controls",
       "_model_module_version": "1.5.0",
       "_model_name": "HTMLModel",
       "_view_count": null,
       "_view_module": "@jupyter-widgets/controls",
       "_view_module_version": "1.5.0",
       "_view_name": "HTMLView",
       "description": "",
       "description_tooltip": null,
       "layout": "IPY_MODEL_145dbfe21be545188503f7de532dde6f",
       "placeholder": "​",
       "style": "IPY_MODEL_275ff2afa8da4d2b9adacf183a76cd41",
       "value": " 442/442 [00:16&lt;00:00, 26.3B/s]"
      }
     },
     "26adb3927db04131a507f304633c40d4": {
      "model_module": "@jupyter-widgets/controls",
      "model_module_version": "1.5.0",
      "model_name": "HBoxModel",
      "state": {
       "_dom_classes": [],
       "_model_module": "@jupyter-widgets/controls",
       "_model_module_version": "1.5.0",
       "_model_name": "HBoxModel",
       "_view_count": null,
       "_view_module": "@jupyter-widgets/controls",
       "_view_module_version": "1.5.0",
       "_view_name": "HBoxView",
       "box_style": "",
       "children": [
        "IPY_MODEL_573bc5488b6841ac9e2b2bea72f4b502",
        "IPY_MODEL_6e267e19d8c64bd8ba1d04ae1f204e74"
       ],
       "layout": "IPY_MODEL_28431a7cc61247249a1a0d008ed2fea6"
      }
     },
     "275ff2afa8da4d2b9adacf183a76cd41": {
      "model_module": "@jupyter-widgets/controls",
      "model_module_version": "1.5.0",
      "model_name": "DescriptionStyleModel",
      "state": {
       "_model_module": "@jupyter-widgets/controls",
       "_model_module_version": "1.5.0",
       "_model_name": "DescriptionStyleModel",
       "_view_count": null,
       "_view_module": "@jupyter-widgets/base",
       "_view_module_version": "1.2.0",
       "_view_name": "StyleView",
       "description_width": ""
      }
     },
     "28431a7cc61247249a1a0d008ed2fea6": {
      "model_module": "@jupyter-widgets/base",
      "model_module_version": "1.2.0",
      "model_name": "LayoutModel",
      "state": {
       "_model_module": "@jupyter-widgets/base",
       "_model_module_version": "1.2.0",
       "_model_name": "LayoutModel",
       "_view_count": null,
       "_view_module": "@jupyter-widgets/base",
       "_view_module_version": "1.2.0",
       "_view_name": "LayoutView",
       "align_content": null,
       "align_items": null,
       "align_self": null,
       "border": null,
       "bottom": null,
       "display": null,
       "flex": null,
       "flex_flow": null,
       "grid_area": null,
       "grid_auto_columns": null,
       "grid_auto_flow": null,
       "grid_auto_rows": null,
       "grid_column": null,
       "grid_gap": null,
       "grid_row": null,
       "grid_template_areas": null,
       "grid_template_columns": null,
       "grid_template_rows": null,
       "height": null,
       "justify_content": null,
       "justify_items": null,
       "left": null,
       "margin": null,
       "max_height": null,
       "max_width": null,
       "min_height": null,
       "min_width": null,
       "object_fit": null,
       "object_position": null,
       "order": null,
       "overflow": null,
       "overflow_x": null,
       "overflow_y": null,
       "padding": null,
       "right": null,
       "top": null,
       "visibility": null,
       "width": null
      }
     },
     "3415c00c4c9e4d5aa9a1a9078a8c3bd6": {
      "model_module": "@jupyter-widgets/base",
      "model_module_version": "1.2.0",
      "model_name": "LayoutModel",
      "state": {
       "_model_module": "@jupyter-widgets/base",
       "_model_module_version": "1.2.0",
       "_model_name": "LayoutModel",
       "_view_count": null,
       "_view_module": "@jupyter-widgets/base",
       "_view_module_version": "1.2.0",
       "_view_name": "LayoutView",
       "align_content": null,
       "align_items": null,
       "align_self": null,
       "border": null,
       "bottom": null,
       "display": null,
       "flex": null,
       "flex_flow": null,
       "grid_area": null,
       "grid_auto_columns": null,
       "grid_auto_flow": null,
       "grid_auto_rows": null,
       "grid_column": null,
       "grid_gap": null,
       "grid_row": null,
       "grid_template_areas": null,
       "grid_template_columns": null,
       "grid_template_rows": null,
       "height": null,
       "justify_content": null,
       "justify_items": null,
       "left": null,
       "margin": null,
       "max_height": null,
       "max_width": null,
       "min_height": null,
       "min_width": null,
       "object_fit": null,
       "object_position": null,
       "order": null,
       "overflow": null,
       "overflow_x": null,
       "overflow_y": null,
       "padding": null,
       "right": null,
       "top": null,
       "visibility": null,
       "width": null
      }
     },
     "49d680019648463e9c95444c5f1706b0": {
      "model_module": "@jupyter-widgets/controls",
      "model_module_version": "1.5.0",
      "model_name": "ProgressStyleModel",
      "state": {
       "_model_module": "@jupyter-widgets/controls",
       "_model_module_version": "1.5.0",
       "_model_name": "ProgressStyleModel",
       "_view_count": null,
       "_view_module": "@jupyter-widgets/base",
       "_view_module_version": "1.2.0",
       "_view_name": "StyleView",
       "bar_color": null,
       "description_width": "initial"
      }
     },
     "4c7355cc97194863a716e6a5ba19d8a7": {
      "model_module": "@jupyter-widgets/controls",
      "model_module_version": "1.5.0",
      "model_name": "DescriptionStyleModel",
      "state": {
       "_model_module": "@jupyter-widgets/controls",
       "_model_module_version": "1.5.0",
       "_model_name": "DescriptionStyleModel",
       "_view_count": null,
       "_view_module": "@jupyter-widgets/base",
       "_view_module_version": "1.2.0",
       "_view_name": "StyleView",
       "description_width": ""
      }
     },
     "573bc5488b6841ac9e2b2bea72f4b502": {
      "model_module": "@jupyter-widgets/controls",
      "model_module_version": "1.5.0",
      "model_name": "FloatProgressModel",
      "state": {
       "_dom_classes": [],
       "_model_module": "@jupyter-widgets/controls",
       "_model_module_version": "1.5.0",
       "_model_name": "FloatProgressModel",
       "_view_count": null,
       "_view_module": "@jupyter-widgets/controls",
       "_view_module_version": "1.5.0",
       "_view_name": "ProgressView",
       "bar_style": "success",
       "description": "Downloading: 100%",
       "description_tooltip": null,
       "layout": "IPY_MODEL_adfaf8213ef24746a57d45631dc59148",
       "max": 231508.0,
       "min": 0.0,
       "orientation": "horizontal",
       "style": "IPY_MODEL_999654082864461ca79186b15173dc2c",
       "value": 231508.0
      }
     },
     "6e267e19d8c64bd8ba1d04ae1f204e74": {
      "model_module": "@jupyter-widgets/controls",
      "model_module_version": "1.5.0",
      "model_name": "HTMLModel",
      "state": {
       "_dom_classes": [],
       "_model_module": "@jupyter-widgets/controls",
       "_model_module_version": "1.5.0",
       "_model_name": "HTMLModel",
       "_view_count": null,
       "_view_module": "@jupyter-widgets/controls",
       "_view_module_version": "1.5.0",
       "_view_name": "HTMLView",
       "description": "",
       "description_tooltip": null,
       "layout": "IPY_MODEL_d34075f42fa14450a4447797ffef8076",
       "placeholder": "​",
       "style": "IPY_MODEL_12c73ea19bda4473984eeae85c9e35b9",
       "value": " 232k/232k [00:00&lt;00:00, 2.54MB/s]"
      }
     },
     "7465cc909b08452cac3b0af510d56459": {
      "model_module": "@jupyter-widgets/controls",
      "model_module_version": "1.5.0",
      "model_name": "FloatProgressModel",
      "state": {
       "_dom_classes": [],
       "_model_module": "@jupyter-widgets/controls",
       "_model_module_version": "1.5.0",
       "_model_name": "FloatProgressModel",
       "_view_count": null,
       "_view_module": "@jupyter-widgets/controls",
       "_view_module_version": "1.5.0",
       "_view_name": "ProgressView",
       "bar_style": "success",
       "description": "Downloading: 100%",
       "description_tooltip": null,
       "layout": "IPY_MODEL_b94d1111a4954949a88b2a3d0ccefde6",
       "max": 442.0,
       "min": 0.0,
       "orientation": "horizontal",
       "style": "IPY_MODEL_b760aa7b6c564c168899105076f15e4b",
       "value": 442.0
      }
     },
     "77612749a4e84aed82d96d9d9f24930d": {
      "model_module": "@jupyter-widgets/controls",
      "model_module_version": "1.5.0",
      "model_name": "FloatProgressModel",
      "state": {
       "_dom_classes": [],
       "_model_module": "@jupyter-widgets/controls",
       "_model_module_version": "1.5.0",
       "_model_name": "FloatProgressModel",
       "_view_count": null,
       "_view_module": "@jupyter-widgets/controls",
       "_view_module_version": "1.5.0",
       "_view_name": "ProgressView",
       "bar_style": "success",
       "description": "Downloading: 100%",
       "description_tooltip": null,
       "layout": "IPY_MODEL_cf4fed76c031403089e65d09e609f4fd",
       "max": 363423424.0,
       "min": 0.0,
       "orientation": "horizontal",
       "style": "IPY_MODEL_49d680019648463e9c95444c5f1706b0",
       "value": 363423424.0
      }
     },
     "9840dd15ea304c1f9fb73aec0c00d1e1": {
      "model_module": "@jupyter-widgets/base",
      "model_module_version": "1.2.0",
      "model_name": "LayoutModel",
      "state": {
       "_model_module": "@jupyter-widgets/base",
       "_model_module_version": "1.2.0",
       "_model_name": "LayoutModel",
       "_view_count": null,
       "_view_module": "@jupyter-widgets/base",
       "_view_module_version": "1.2.0",
       "_view_name": "LayoutView",
       "align_content": null,
       "align_items": null,
       "align_self": null,
       "border": null,
       "bottom": null,
       "display": null,
       "flex": null,
       "flex_flow": null,
       "grid_area": null,
       "grid_auto_columns": null,
       "grid_auto_flow": null,
       "grid_auto_rows": null,
       "grid_column": null,
       "grid_gap": null,
       "grid_row": null,
       "grid_template_areas": null,
       "grid_template_columns": null,
       "grid_template_rows": null,
       "height": null,
       "justify_content": null,
       "justify_items": null,
       "left": null,
       "margin": null,
       "max_height": null,
       "max_width": null,
       "min_height": null,
       "min_width": null,
       "object_fit": null,
       "object_position": null,
       "order": null,
       "overflow": null,
       "overflow_x": null,
       "overflow_y": null,
       "padding": null,
       "right": null,
       "top": null,
       "visibility": null,
       "width": null
      }
     },
     "999654082864461ca79186b15173dc2c": {
      "model_module": "@jupyter-widgets/controls",
      "model_module_version": "1.5.0",
      "model_name": "ProgressStyleModel",
      "state": {
       "_model_module": "@jupyter-widgets/controls",
       "_model_module_version": "1.5.0",
       "_model_name": "ProgressStyleModel",
       "_view_count": null,
       "_view_module": "@jupyter-widgets/base",
       "_view_module_version": "1.2.0",
       "_view_name": "StyleView",
       "bar_color": null,
       "description_width": "initial"
      }
     },
     "adfaf8213ef24746a57d45631dc59148": {
      "model_module": "@jupyter-widgets/base",
      "model_module_version": "1.2.0",
      "model_name": "LayoutModel",
      "state": {
       "_model_module": "@jupyter-widgets/base",
       "_model_module_version": "1.2.0",
       "_model_name": "LayoutModel",
       "_view_count": null,
       "_view_module": "@jupyter-widgets/base",
       "_view_module_version": "1.2.0",
       "_view_name": "LayoutView",
       "align_content": null,
       "align_items": null,
       "align_self": null,
       "border": null,
       "bottom": null,
       "display": null,
       "flex": null,
       "flex_flow": null,
       "grid_area": null,
       "grid_auto_columns": null,
       "grid_auto_flow": null,
       "grid_auto_rows": null,
       "grid_column": null,
       "grid_gap": null,
       "grid_row": null,
       "grid_template_areas": null,
       "grid_template_columns": null,
       "grid_template_rows": null,
       "height": null,
       "justify_content": null,
       "justify_items": null,
       "left": null,
       "margin": null,
       "max_height": null,
       "max_width": null,
       "min_height": null,
       "min_width": null,
       "object_fit": null,
       "object_position": null,
       "order": null,
       "overflow": null,
       "overflow_x": null,
       "overflow_y": null,
       "padding": null,
       "right": null,
       "top": null,
       "visibility": null,
       "width": null
      }
     },
     "b760aa7b6c564c168899105076f15e4b": {
      "model_module": "@jupyter-widgets/controls",
      "model_module_version": "1.5.0",
      "model_name": "ProgressStyleModel",
      "state": {
       "_model_module": "@jupyter-widgets/controls",
       "_model_module_version": "1.5.0",
       "_model_name": "ProgressStyleModel",
       "_view_count": null,
       "_view_module": "@jupyter-widgets/base",
       "_view_module_version": "1.2.0",
       "_view_name": "StyleView",
       "bar_color": null,
       "description_width": "initial"
      }
     },
     "b94d1111a4954949a88b2a3d0ccefde6": {
      "model_module": "@jupyter-widgets/base",
      "model_module_version": "1.2.0",
      "model_name": "LayoutModel",
      "state": {
       "_model_module": "@jupyter-widgets/base",
       "_model_module_version": "1.2.0",
       "_model_name": "LayoutModel",
       "_view_count": null,
       "_view_module": "@jupyter-widgets/base",
       "_view_module_version": "1.2.0",
       "_view_name": "LayoutView",
       "align_content": null,
       "align_items": null,
       "align_self": null,
       "border": null,
       "bottom": null,
       "display": null,
       "flex": null,
       "flex_flow": null,
       "grid_area": null,
       "grid_auto_columns": null,
       "grid_auto_flow": null,
       "grid_auto_rows": null,
       "grid_column": null,
       "grid_gap": null,
       "grid_row": null,
       "grid_template_areas": null,
       "grid_template_columns": null,
       "grid_template_rows": null,
       "height": null,
       "justify_content": null,
       "justify_items": null,
       "left": null,
       "margin": null,
       "max_height": null,
       "max_width": null,
       "min_height": null,
       "min_width": null,
       "object_fit": null,
       "object_position": null,
       "order": null,
       "overflow": null,
       "overflow_x": null,
       "overflow_y": null,
       "padding": null,
       "right": null,
       "top": null,
       "visibility": null,
       "width": null
      }
     },
     "c0eef8c97c3942c5ad3036fdb05c2da2": {
      "model_module": "@jupyter-widgets/controls",
      "model_module_version": "1.5.0",
      "model_name": "HBoxModel",
      "state": {
       "_dom_classes": [],
       "_model_module": "@jupyter-widgets/controls",
       "_model_module_version": "1.5.0",
       "_model_name": "HBoxModel",
       "_view_count": null,
       "_view_module": "@jupyter-widgets/controls",
       "_view_module_version": "1.5.0",
       "_view_name": "HBoxView",
       "box_style": "",
       "children": [
        "IPY_MODEL_7465cc909b08452cac3b0af510d56459",
        "IPY_MODEL_2382ea2345464430995a76615f0126d3"
       ],
       "layout": "IPY_MODEL_3415c00c4c9e4d5aa9a1a9078a8c3bd6"
      }
     },
     "c3d3e40948424113886448e75e9a18c2": {
      "model_module": "@jupyter-widgets/controls",
      "model_module_version": "1.5.0",
      "model_name": "HBoxModel",
      "state": {
       "_dom_classes": [],
       "_model_module": "@jupyter-widgets/controls",
       "_model_module_version": "1.5.0",
       "_model_name": "HBoxModel",
       "_view_count": null,
       "_view_module": "@jupyter-widgets/controls",
       "_view_module_version": "1.5.0",
       "_view_name": "HBoxView",
       "box_style": "",
       "children": [
        "IPY_MODEL_77612749a4e84aed82d96d9d9f24930d",
        "IPY_MODEL_fe44ea3cd94741119e6e0c2e0490808c"
       ],
       "layout": "IPY_MODEL_9840dd15ea304c1f9fb73aec0c00d1e1"
      }
     },
     "cf4fed76c031403089e65d09e609f4fd": {
      "model_module": "@jupyter-widgets/base",
      "model_module_version": "1.2.0",
      "model_name": "LayoutModel",
      "state": {
       "_model_module": "@jupyter-widgets/base",
       "_model_module_version": "1.2.0",
       "_model_name": "LayoutModel",
       "_view_count": null,
       "_view_module": "@jupyter-widgets/base",
       "_view_module_version": "1.2.0",
       "_view_name": "LayoutView",
       "align_content": null,
       "align_items": null,
       "align_self": null,
       "border": null,
       "bottom": null,
       "display": null,
       "flex": null,
       "flex_flow": null,
       "grid_area": null,
       "grid_auto_columns": null,
       "grid_auto_flow": null,
       "grid_auto_rows": null,
       "grid_column": null,
       "grid_gap": null,
       "grid_row": null,
       "grid_template_areas": null,
       "grid_template_columns": null,
       "grid_template_rows": null,
       "height": null,
       "justify_content": null,
       "justify_items": null,
       "left": null,
       "margin": null,
       "max_height": null,
       "max_width": null,
       "min_height": null,
       "min_width": null,
       "object_fit": null,
       "object_position": null,
       "order": null,
       "overflow": null,
       "overflow_x": null,
       "overflow_y": null,
       "padding": null,
       "right": null,
       "top": null,
       "visibility": null,
       "width": null
      }
     },
     "d34075f42fa14450a4447797ffef8076": {
      "model_module": "@jupyter-widgets/base",
      "model_module_version": "1.2.0",
      "model_name": "LayoutModel",
      "state": {
       "_model_module": "@jupyter-widgets/base",
       "_model_module_version": "1.2.0",
       "_model_name": "LayoutModel",
       "_view_count": null,
       "_view_module": "@jupyter-widgets/base",
       "_view_module_version": "1.2.0",
       "_view_name": "LayoutView",
       "align_content": null,
       "align_items": null,
       "align_self": null,
       "border": null,
       "bottom": null,
       "display": null,
       "flex": null,
       "flex_flow": null,
       "grid_area": null,
       "grid_auto_columns": null,
       "grid_auto_flow": null,
       "grid_auto_rows": null,
       "grid_column": null,
       "grid_gap": null,
       "grid_row": null,
       "grid_template_areas": null,
       "grid_template_columns": null,
       "grid_template_rows": null,
       "height": null,
       "justify_content": null,
       "justify_items": null,
       "left": null,
       "margin": null,
       "max_height": null,
       "max_width": null,
       "min_height": null,
       "min_width": null,
       "object_fit": null,
       "object_position": null,
       "order": null,
       "overflow": null,
       "overflow_x": null,
       "overflow_y": null,
       "padding": null,
       "right": null,
       "top": null,
       "visibility": null,
       "width": null
      }
     },
     "fe44ea3cd94741119e6e0c2e0490808c": {
      "model_module": "@jupyter-widgets/controls",
      "model_module_version": "1.5.0",
      "model_name": "HTMLModel",
      "state": {
       "_dom_classes": [],
       "_model_module": "@jupyter-widgets/controls",
       "_model_module_version": "1.5.0",
       "_model_name": "HTMLModel",
       "_view_count": null,
       "_view_module": "@jupyter-widgets/controls",
       "_view_module_version": "1.5.0",
       "_view_name": "HTMLView",
       "description": "",
       "description_tooltip": null,
       "layout": "IPY_MODEL_03d4f3f7632d4503b6df57ee511169ad",
       "placeholder": "​",
       "style": "IPY_MODEL_4c7355cc97194863a716e6a5ba19d8a7",
       "value": " 363M/363M [00:15&lt;00:00, 23.3MB/s]"
      }
     }
    },
    "version_major": 2,
    "version_minor": 0
   }
  }
 },
 "nbformat": 4,
 "nbformat_minor": 4
}
