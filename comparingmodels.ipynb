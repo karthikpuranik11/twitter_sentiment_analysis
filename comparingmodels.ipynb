{
 "cells": [
  {
   "cell_type": "code",
   "execution_count": 1,
   "metadata": {
    "_cell_guid": "b1076dfc-b9ad-4769-8c92-a6c4dae69d19",
    "_uuid": "8f2839f25d086af736a60e9eeb907d3b93b6e0e5",
    "execution": {
     "iopub.execute_input": "2020-08-29T20:13:52.005145Z",
     "iopub.status.busy": "2020-08-29T20:13:52.004291Z",
     "iopub.status.idle": "2020-08-29T20:13:52.015342Z",
     "shell.execute_reply": "2020-08-29T20:13:52.014675Z"
    },
    "papermill": {
     "duration": 0.036792,
     "end_time": "2020-08-29T20:13:52.015507",
     "exception": false,
     "start_time": "2020-08-29T20:13:51.978715",
     "status": "completed"
    },
    "tags": []
   },
   "outputs": [
    {
     "name": "stdout",
     "output_type": "stream",
     "text": [
      "/kaggle/input/twitter-sentiment-analysis-hatred-speech/train.csv\n",
      "/kaggle/input/twitter-sentiment-analysis-hatred-speech/test.csv\n"
     ]
    }
   ],
   "source": [
    "# This Python 3 environment comes with many helpful analytics libraries installed\n",
    "# It is defined by the kaggle/python Docker image: https://github.com/kaggle/docker-python\n",
    "# For example, here's several helpful packages to load\n",
    "\n",
    "import numpy as np # linear algebra\n",
    "import pandas as pd # data processing, CSV file I/O (e.g. pd.read_csv)\n",
    "\n",
    "# Input data files are available in the read-only \"../input/\" directory\n",
    "# For example, running this (by clicking run or pressing Shift+Enter) will list all files under the input directory\n",
    "\n",
    "import os\n",
    "for dirname, _, filenames in os.walk('/kaggle/input'):\n",
    "    for filename in filenames:\n",
    "        print(os.path.join(dirname, filename))\n",
    "\n",
    "# You can write up to 5GB to the current directory (/kaggle/working/) that gets preserved as output when you create a version using \"Save & Run All\" \n",
    "# You can also write temporary files to /kaggle/temp/, but they won't be saved outside of the current session"
   ]
  },
  {
   "cell_type": "code",
   "execution_count": 2,
   "metadata": {
    "_cell_guid": "79c7e3d0-c299-4dcb-8224-4455121ee9b0",
    "_uuid": "d629ff2d2480ee46fbb7e2d37f6b5fab8052498a",
    "execution": {
     "iopub.execute_input": "2020-08-29T20:13:52.057659Z",
     "iopub.status.busy": "2020-08-29T20:13:52.056875Z",
     "iopub.status.idle": "2020-08-29T20:13:52.239023Z",
     "shell.execute_reply": "2020-08-29T20:13:52.239715Z"
    },
    "papermill": {
     "duration": 0.208139,
     "end_time": "2020-08-29T20:13:52.239898",
     "exception": false,
     "start_time": "2020-08-29T20:13:52.031759",
     "status": "completed"
    },
    "tags": []
   },
   "outputs": [],
   "source": [
    "train=pd.read_csv('/kaggle/input/twitter-sentiment-analysis-hatred-speech/train.csv')\n",
    "test=pd.read_csv('/kaggle/input/twitter-sentiment-analysis-hatred-speech/test.csv')"
   ]
  },
  {
   "cell_type": "code",
   "execution_count": 3,
   "metadata": {
    "execution": {
     "iopub.execute_input": "2020-08-29T20:13:52.285287Z",
     "iopub.status.busy": "2020-08-29T20:13:52.280791Z",
     "iopub.status.idle": "2020-08-29T20:13:52.296716Z",
     "shell.execute_reply": "2020-08-29T20:13:52.295926Z"
    },
    "papermill": {
     "duration": 0.040532,
     "end_time": "2020-08-29T20:13:52.296848",
     "exception": false,
     "start_time": "2020-08-29T20:13:52.256316",
     "status": "completed"
    },
    "tags": []
   },
   "outputs": [
    {
     "data": {
      "text/html": [
       "<div>\n",
       "<style scoped>\n",
       "    .dataframe tbody tr th:only-of-type {\n",
       "        vertical-align: middle;\n",
       "    }\n",
       "\n",
       "    .dataframe tbody tr th {\n",
       "        vertical-align: top;\n",
       "    }\n",
       "\n",
       "    .dataframe thead th {\n",
       "        text-align: right;\n",
       "    }\n",
       "</style>\n",
       "<table border=\"1\" class=\"dataframe\">\n",
       "  <thead>\n",
       "    <tr style=\"text-align: right;\">\n",
       "      <th></th>\n",
       "      <th>id</th>\n",
       "      <th>tweet</th>\n",
       "    </tr>\n",
       "  </thead>\n",
       "  <tbody>\n",
       "    <tr>\n",
       "      <th>0</th>\n",
       "      <td>31963</td>\n",
       "      <td>#studiolife #aislife #requires #passion #dedic...</td>\n",
       "    </tr>\n",
       "    <tr>\n",
       "      <th>1</th>\n",
       "      <td>31964</td>\n",
       "      <td>@user #white #supremacists want everyone to s...</td>\n",
       "    </tr>\n",
       "    <tr>\n",
       "      <th>2</th>\n",
       "      <td>31965</td>\n",
       "      <td>safe ways to heal your #acne!!    #altwaystohe...</td>\n",
       "    </tr>\n",
       "    <tr>\n",
       "      <th>3</th>\n",
       "      <td>31966</td>\n",
       "      <td>is the hp and the cursed child book up for res...</td>\n",
       "    </tr>\n",
       "    <tr>\n",
       "      <th>4</th>\n",
       "      <td>31967</td>\n",
       "      <td>3rd #bihday to my amazing, hilarious #nephew...</td>\n",
       "    </tr>\n",
       "  </tbody>\n",
       "</table>\n",
       "</div>"
      ],
      "text/plain": [
       "      id                                              tweet\n",
       "0  31963  #studiolife #aislife #requires #passion #dedic...\n",
       "1  31964   @user #white #supremacists want everyone to s...\n",
       "2  31965  safe ways to heal your #acne!!    #altwaystohe...\n",
       "3  31966  is the hp and the cursed child book up for res...\n",
       "4  31967    3rd #bihday to my amazing, hilarious #nephew..."
      ]
     },
     "execution_count": 3,
     "metadata": {},
     "output_type": "execute_result"
    }
   ],
   "source": [
    "train.head()\n",
    "test.head()"
   ]
  },
  {
   "cell_type": "markdown",
   "execution_count": null,
   "metadata": {
    "papermill": {
     "duration": 0.016145,
     "end_time": "2020-08-29T20:13:52.329660",
     "exception": false,
     "start_time": "2020-08-29T20:13:52.313515",
     "status": "completed"
    },
    "tags": []
   },
   "source": [
    "# **Removing hashtags**"
   ]
  },
  {
   "cell_type": "code",
   "execution_count": 4,
   "metadata": {
    "execution": {
     "iopub.execute_input": "2020-08-29T20:13:52.369404Z",
     "iopub.status.busy": "2020-08-29T20:13:52.368453Z",
     "iopub.status.idle": "2020-08-29T20:13:52.371631Z",
     "shell.execute_reply": "2020-08-29T20:13:52.370898Z"
    },
    "papermill": {
     "duration": 0.025351,
     "end_time": "2020-08-29T20:13:52.371753",
     "exception": false,
     "start_time": "2020-08-29T20:13:52.346402",
     "status": "completed"
    },
    "tags": []
   },
   "outputs": [],
   "source": [
    "def punc(df):\n",
    "    df['tweet'] = df['tweet'].str.replace('[#]','')\n",
    "    print(df)"
   ]
  },
  {
   "cell_type": "code",
   "execution_count": 5,
   "metadata": {
    "execution": {
     "iopub.execute_input": "2020-08-29T20:13:52.439879Z",
     "iopub.status.busy": "2020-08-29T20:13:52.418976Z",
     "iopub.status.idle": "2020-08-29T20:13:52.515316Z",
     "shell.execute_reply": "2020-08-29T20:13:52.514464Z"
    },
    "papermill": {
     "duration": 0.127397,
     "end_time": "2020-08-29T20:13:52.515505",
     "exception": false,
     "start_time": "2020-08-29T20:13:52.388108",
     "status": "completed"
    },
    "tags": []
   },
   "outputs": [
    {
     "name": "stdout",
     "output_type": "stream",
     "text": [
      "          id  label                                              tweet\n",
      "0          1      0   @user when a father is dysfunctional and is s...\n",
      "1          2      0  @user @user thanks for lyft credit i can't use...\n",
      "2          3      0                                bihday your majesty\n",
      "3          4      0  model   i love u take with u all the time in u...\n",
      "4          5      0              factsguide: society now    motivation\n",
      "...      ...    ...                                                ...\n",
      "31957  31958      0  ate @user isz that youuu?ðððððð...\n",
      "31958  31959      0    to see nina turner on the airwaves trying to...\n",
      "31959  31960      0  listening to sad songs on a monday morning otw...\n",
      "31960  31961      1  @user sikh temple vandalised in in calgary, ws...\n",
      "31961  31962      0                   thank you @user for you follow  \n",
      "\n",
      "[31962 rows x 3 columns]\n",
      "          id                                              tweet\n",
      "0      31963  studiolife aislife requires passion dedication...\n",
      "1      31964   @user white supremacists want everyone to see...\n",
      "2      31965  safe ways to heal your acne!!    altwaystoheal...\n",
      "3      31966  is the hp and the cursed child book up for res...\n",
      "4      31967    3rd bihday to my amazing, hilarious nephew e...\n",
      "...      ...                                                ...\n",
      "17192  49155  thought factory: left-right polarisation! trum...\n",
      "17193  49156  feeling like a mermaid ð hairflip neverread...\n",
      "17194  49157  hillary campaigned today in ohio((omg)) &amp; ...\n",
      "17195  49158  happy, at work conference: right mindset leads...\n",
      "17196  49159  my   song \"so glad\" free download!  shoegaze n...\n",
      "\n",
      "[17197 rows x 2 columns]\n"
     ]
    }
   ],
   "source": [
    "punc(train)\n",
    "punc(test)"
   ]
  },
  {
   "cell_type": "markdown",
   "execution_count": null,
   "metadata": {
    "papermill": {
     "duration": 0.016577,
     "end_time": "2020-08-29T20:13:52.549394",
     "exception": false,
     "start_time": "2020-08-29T20:13:52.532817",
     "status": "completed"
    },
    "tags": []
   },
   "source": [
    "# Tokenizing"
   ]
  },
  {
   "cell_type": "code",
   "execution_count": 6,
   "metadata": {
    "execution": {
     "iopub.execute_input": "2020-08-29T20:13:52.589961Z",
     "iopub.status.busy": "2020-08-29T20:13:52.589175Z",
     "iopub.status.idle": "2020-08-29T20:13:54.496706Z",
     "shell.execute_reply": "2020-08-29T20:13:54.495941Z"
    },
    "papermill": {
     "duration": 1.930764,
     "end_time": "2020-08-29T20:13:54.496835",
     "exception": false,
     "start_time": "2020-08-29T20:13:52.566071",
     "status": "completed"
    },
    "tags": []
   },
   "outputs": [],
   "source": [
    "import nltk\n",
    "from nltk.tokenize import TweetTokenizer\n",
    "def tokenizer(df):\n",
    "    tknzr = TweetTokenizer(strip_handles=True)\n",
    "    df['tweet']= df['tweet'].apply(lambda x: tknzr.tokenize(x))\n",
    "    print(df)\n",
    "    "
   ]
  },
  {
   "cell_type": "code",
   "execution_count": 7,
   "metadata": {
    "execution": {
     "iopub.execute_input": "2020-08-29T20:13:54.542469Z",
     "iopub.status.busy": "2020-08-29T20:13:54.541439Z",
     "iopub.status.idle": "2020-08-29T20:14:00.809746Z",
     "shell.execute_reply": "2020-08-29T20:14:00.808938Z"
    },
    "papermill": {
     "duration": 6.296258,
     "end_time": "2020-08-29T20:14:00.809896",
     "exception": false,
     "start_time": "2020-08-29T20:13:54.513638",
     "status": "completed"
    },
    "tags": []
   },
   "outputs": [
    {
     "name": "stdout",
     "output_type": "stream",
     "text": [
      "          id                                              tweet\n",
      "0      31963  [studiolife, aislife, requires, passion, dedic...\n",
      "1      31964  [white, supremacists, want, everyone, to, see,...\n",
      "2      31965  [safe, ways, to, heal, your, acne, !, !, altwa...\n",
      "3      31966  [is, the, hp, and, the, cursed, child, book, u...\n",
      "4      31967  [3rd, bihday, to, my, amazing, ,, hilarious, n...\n",
      "...      ...                                                ...\n",
      "17192  49155  [thought, factory, :, left-right, polarisation...\n",
      "17193  49156  [feeling, like, a, mermaid, ð, , , , hairfl...\n",
      "17194  49157  [hillary, campaigned, today, in, ohio, (, (, o...\n",
      "17195  49158  [happy, ,, at, work, conference, :, right, min...\n",
      "17196  49159  [my, song, \", so, glad, \", free, download, !, ...\n",
      "\n",
      "[17197 rows x 2 columns]\n",
      "          id  label                                              tweet\n",
      "0          1      0  [when, a, father, is, dysfunctional, and, is, ...\n",
      "1          2      0  [thanks, for, lyft, credit, i, can't, use, cau...\n",
      "2          3      0                            [bihday, your, majesty]\n",
      "3          4      0  [model, i, love, u, take, with, u, all, the, t...\n",
      "4          5      0          [factsguide, :, society, now, motivation]\n",
      "...      ...    ...                                                ...\n",
      "31957  31958      0  [ate, isz, that, youuu, ?, ð, , , , ð, , ...\n",
      "31958  31959      0  [to, see, nina, turner, on, the, airwaves, try...\n",
      "31959  31960      0  [listening, to, sad, songs, on, a, monday, mor...\n",
      "31960  31961      1  [sikh, temple, vandalised, in, in, calgary, ,,...\n",
      "31961  31962      0                     [thank, you, for, you, follow]\n",
      "\n",
      "[31962 rows x 3 columns]\n"
     ]
    }
   ],
   "source": [
    "tokenizer(test)\n",
    "tokenizer(train)"
   ]
  },
  {
   "cell_type": "markdown",
   "execution_count": null,
   "metadata": {
    "papermill": {
     "duration": 0.017051,
     "end_time": "2020-08-29T20:14:00.844059",
     "exception": false,
     "start_time": "2020-08-29T20:14:00.827008",
     "status": "completed"
    },
    "tags": []
   },
   "source": [
    "# Removing Stopwords"
   ]
  },
  {
   "cell_type": "code",
   "execution_count": 8,
   "metadata": {
    "execution": {
     "iopub.execute_input": "2020-08-29T20:14:00.886719Z",
     "iopub.status.busy": "2020-08-29T20:14:00.885965Z",
     "iopub.status.idle": "2020-08-29T20:14:00.896852Z",
     "shell.execute_reply": "2020-08-29T20:14:00.896193Z"
    },
    "papermill": {
     "duration": 0.03577,
     "end_time": "2020-08-29T20:14:00.896996",
     "exception": false,
     "start_time": "2020-08-29T20:14:00.861226",
     "status": "completed"
    },
    "tags": []
   },
   "outputs": [],
   "source": [
    "import nltk\n",
    "from nltk.corpus import stopwords\n",
    "stop=stopwords.words(\"english\")\n",
    "def stop_words(df):\n",
    "    df['tweet']=df['tweet'].apply(lambda x: [i.lower() for i in x if i not in stop])\n",
    "    print(df)"
   ]
  },
  {
   "cell_type": "code",
   "execution_count": 9,
   "metadata": {
    "execution": {
     "iopub.execute_input": "2020-08-29T20:14:00.952165Z",
     "iopub.status.busy": "2020-08-29T20:14:00.947076Z",
     "iopub.status.idle": "2020-08-29T20:14:03.326101Z",
     "shell.execute_reply": "2020-08-29T20:14:03.325380Z"
    },
    "papermill": {
     "duration": 2.412121,
     "end_time": "2020-08-29T20:14:03.326242",
     "exception": false,
     "start_time": "2020-08-29T20:14:00.914121",
     "status": "completed"
    },
    "tags": []
   },
   "outputs": [
    {
     "name": "stdout",
     "output_type": "stream",
     "text": [
      "          id  label                                              tweet\n",
      "0          1      0  [father, dysfunctional, selfish, drags, kids, ...\n",
      "1          2      0  [thanks, lyft, credit, can't, use, cause, offe...\n",
      "2          3      0                                  [bihday, majesty]\n",
      "3          4      0  [model, love, u, take, u, time, urð, , , ±, ...\n",
      "4          5      0               [factsguide, :, society, motivation]\n",
      "...      ...    ...                                                ...\n",
      "31957  31958      0  [ate, isz, youuu, ?, ð, , , , ð, , , , ð...\n",
      "31958  31959      0  [see, nina, turner, airwaves, trying, wrap, ma...\n",
      "31959  31960      0  [listening, sad, songs, monday, morning, otw, ...\n",
      "31960  31961      1  [sikh, temple, vandalised, calgary, ,, wso, co...\n",
      "31961  31962      0                                    [thank, follow]\n",
      "\n",
      "[31962 rows x 3 columns]\n",
      "          id                                              tweet\n",
      "0      31963  [studiolife, aislife, requires, passion, dedic...\n",
      "1      31964  [white, supremacists, want, everyone, see, new...\n",
      "2      31965  [safe, ways, heal, acne, !, !, altwaystoheal, ...\n",
      "3      31966  [hp, cursed, child, book, reservations, alread...\n",
      "4      31967  [3rd, bihday, amazing, ,, hilarious, nephew, e...\n",
      "...      ...                                                ...\n",
      "17192  49155  [thought, factory, :, left-right, polarisation...\n",
      "17193  49156  [feeling, like, mermaid, ð, , , , hairflip,...\n",
      "17194  49157  [hillary, campaigned, today, ohio, (, (, omg, ...\n",
      "17195  49158  [happy, ,, work, conference, :, right, mindset...\n",
      "17196  49159  [song, \", glad, \", free, download, !, shoegaze...\n",
      "\n",
      "[17197 rows x 2 columns]\n"
     ]
    }
   ],
   "source": [
    "stop_words(train)\n",
    "stop_words(test)"
   ]
  },
  {
   "cell_type": "markdown",
   "execution_count": null,
   "metadata": {
    "papermill": {
     "duration": 0.017158,
     "end_time": "2020-08-29T20:14:03.361208",
     "exception": false,
     "start_time": "2020-08-29T20:14:03.344050",
     "status": "completed"
    },
    "tags": []
   },
   "source": [
    " Removing punctuations and words of length less than 3"
   ]
  },
  {
   "cell_type": "code",
   "execution_count": 10,
   "metadata": {
    "execution": {
     "iopub.execute_input": "2020-08-29T20:14:03.403832Z",
     "iopub.status.busy": "2020-08-29T20:14:03.402773Z",
     "iopub.status.idle": "2020-08-29T20:14:03.406574Z",
     "shell.execute_reply": "2020-08-29T20:14:03.405821Z"
    },
    "papermill": {
     "duration": 0.028265,
     "end_time": "2020-08-29T20:14:03.406704",
     "exception": false,
     "start_time": "2020-08-29T20:14:03.378439",
     "status": "completed"
    },
    "tags": []
   },
   "outputs": [],
   "source": [
    "import re\n",
    "def clean(df):\n",
    "    df['tweet']=df['tweet'].apply(lambda x: [i for i in x if not re.match('[^\\w\\s]',i) and len(i)>3])\n",
    "    print(df)"
   ]
  },
  {
   "cell_type": "code",
   "execution_count": 11,
   "metadata": {
    "execution": {
     "iopub.execute_input": "2020-08-29T20:14:03.462510Z",
     "iopub.status.busy": "2020-08-29T20:14:03.446856Z",
     "iopub.status.idle": "2020-08-29T20:14:04.588599Z",
     "shell.execute_reply": "2020-08-29T20:14:04.587879Z"
    },
    "papermill": {
     "duration": 1.164622,
     "end_time": "2020-08-29T20:14:04.588727",
     "exception": false,
     "start_time": "2020-08-29T20:14:03.424105",
     "status": "completed"
    },
    "tags": []
   },
   "outputs": [
    {
     "name": "stdout",
     "output_type": "stream",
     "text": [
      "          id  label                                              tweet\n",
      "0          1      0  [father, dysfunctional, selfish, drags, kids, ...\n",
      "1          2      0  [thanks, lyft, credit, can't, cause, offer, wh...\n",
      "2          3      0                                  [bihday, majesty]\n",
      "3          4      0                          [model, love, take, time]\n",
      "4          5      0                  [factsguide, society, motivation]\n",
      "...      ...    ...                                                ...\n",
      "31957  31958      0                                            [youuu]\n",
      "31958  31959      0  [nina, turner, airwaves, trying, wrap, mantle,...\n",
      "31959  31960      0          [listening, songs, monday, morning, work]\n",
      "31960  31961      1      [sikh, temple, vandalised, calgary, condemns]\n",
      "31961  31962      0                                    [thank, follow]\n",
      "\n",
      "[31962 rows x 3 columns]\n",
      "          id                                              tweet\n",
      "0      31963  [studiolife, aislife, requires, passion, dedic...\n",
      "1      31964  [white, supremacists, want, everyone, birdsâ, ...\n",
      "2      31965  [safe, ways, heal, acne, altwaystoheal, health...\n",
      "3      31966  [cursed, child, book, reservations, already, h...\n",
      "4      31967  [bihday, amazing, hilarious, nephew, ahmir, un...\n",
      "...      ...                                                ...\n",
      "17192  49155  [thought, factory, left-right, polarisation, t...\n",
      "17193  49156  [feeling, like, mermaid, hairflip, neverready,...\n",
      "17194  49157  [hillary, campaigned, today, ohio, used, words...\n",
      "17195  49158  [happy, work, conference, right, mindset, lead...\n",
      "17196  49159  [song, glad, free, download, shoegaze, newmusi...\n",
      "\n",
      "[17197 rows x 2 columns]\n"
     ]
    }
   ],
   "source": [
    "clean(train)\n",
    "clean(test)"
   ]
  },
  {
   "cell_type": "markdown",
   "execution_count": null,
   "metadata": {
    "papermill": {
     "duration": 0.017587,
     "end_time": "2020-08-29T20:14:04.623872",
     "exception": false,
     "start_time": "2020-08-29T20:14:04.606285",
     "status": "completed"
    },
    "tags": []
   },
   "source": [
    "# Stemming"
   ]
  },
  {
   "cell_type": "code",
   "execution_count": 12,
   "metadata": {
    "execution": {
     "iopub.execute_input": "2020-08-29T20:14:04.668005Z",
     "iopub.status.busy": "2020-08-29T20:14:04.667205Z",
     "iopub.status.idle": "2020-08-29T20:14:04.732438Z",
     "shell.execute_reply": "2020-08-29T20:14:04.731600Z"
    },
    "papermill": {
     "duration": 0.0907,
     "end_time": "2020-08-29T20:14:04.732619",
     "exception": false,
     "start_time": "2020-08-29T20:14:04.641919",
     "status": "completed"
    },
    "tags": []
   },
   "outputs": [],
   "source": [
    "from nltk.stem import PorterStemmer\n",
    "from textblob import Word\n",
    "st = PorterStemmer()\n",
    "def stemnlemm(df):\n",
    "    df['tweet']=df['tweet'].apply(lambda x: [Word(st.stem(i)).lemmatize() for i in x])\n",
    "    print(df)"
   ]
  },
  {
   "cell_type": "code",
   "execution_count": 13,
   "metadata": {
    "execution": {
     "iopub.execute_input": "2020-08-29T20:14:04.775029Z",
     "iopub.status.busy": "2020-08-29T20:14:04.774227Z",
     "iopub.status.idle": "2020-08-29T20:14:24.964771Z",
     "shell.execute_reply": "2020-08-29T20:14:24.963588Z"
    },
    "papermill": {
     "duration": 20.214361,
     "end_time": "2020-08-29T20:14:24.964968",
     "exception": false,
     "start_time": "2020-08-29T20:14:04.750607",
     "status": "completed"
    },
    "tags": []
   },
   "outputs": [
    {
     "name": "stdout",
     "output_type": "stream",
     "text": [
      "          id  label                                              tweet\n",
      "0          1      0   [father, dysfunct, selfish, drag, kid, dysfunct]\n",
      "1          2      0  [thank, lyft, credit, can't, caus, offer, whee...\n",
      "2          3      0                                  [bihday, majesti]\n",
      "3          4      0                          [model, love, take, time]\n",
      "4          5      0                        [factsguid, societi, motiv]\n",
      "...      ...    ...                                                ...\n",
      "31957  31958      0                                            [youuu]\n",
      "31958  31959      0  [nina, turner, airwav, tri, wrap, mantl, genui...\n",
      "31959  31960      0                 [listen, song, monday, morn, work]\n",
      "31960  31961      1          [sikh, templ, vandalis, calgari, condemn]\n",
      "31961  31962      0                                    [thank, follow]\n",
      "\n",
      "[31962 rows x 3 columns]\n",
      "          id                                              tweet\n",
      "0      31963  [studiolif, aislif, requir, passion, dedic, wi...\n",
      "1      31964  [white, supremacist, want, everyon, birdsâ, mo...\n",
      "2      31965  [safe, way, heal, acn, altwaystoh, healthi, heal]\n",
      "3      31966  [cur, child, book, reserv, alreadi, harrypott,...\n",
      "4      31967  [bihday, amaz, hilari, nephew, ahmir, uncl, da...\n",
      "...      ...                                                ...\n",
      "17192  49155  [thought, factori, left-right, polaris, trump,...\n",
      "17193  49156  [feel, like, mermaid, hairflip, neverreadi, fo...\n",
      "17194  49157  [hillari, campaign, today, ohio, use, word, li...\n",
      "17195  49158  [happi, work, confer, right, mindset, lead, cu...\n",
      "17196  49159  [song, glad, free, download, shoegaz, newmus, ...\n",
      "\n",
      "[17197 rows x 2 columns]\n"
     ]
    }
   ],
   "source": [
    "stemnlemm(train)\n",
    "stemnlemm(test)"
   ]
  },
  {
   "cell_type": "markdown",
   "execution_count": null,
   "metadata": {
    "papermill": {
     "duration": 0.017903,
     "end_time": "2020-08-29T20:14:25.001180",
     "exception": false,
     "start_time": "2020-08-29T20:14:24.983277",
     "status": "completed"
    },
    "tags": []
   },
   "source": [
    "# Vectorizing"
   ]
  },
  {
   "cell_type": "code",
   "execution_count": 14,
   "metadata": {
    "execution": {
     "iopub.execute_input": "2020-08-29T20:14:25.043354Z",
     "iopub.status.busy": "2020-08-29T20:14:25.042563Z",
     "iopub.status.idle": "2020-08-29T20:14:25.045396Z",
     "shell.execute_reply": "2020-08-29T20:14:25.046138Z"
    },
    "papermill": {
     "duration": 0.027256,
     "end_time": "2020-08-29T20:14:25.046306",
     "exception": false,
     "start_time": "2020-08-29T20:14:25.019050",
     "status": "completed"
    },
    "tags": []
   },
   "outputs": [],
   "source": [
    "from sklearn.feature_extraction.text import CountVectorizer\n",
    "cv = CountVectorizer(max_features=1500, analyzer='word', lowercase=False) "
   ]
  },
  {
   "cell_type": "code",
   "execution_count": 15,
   "metadata": {
    "execution": {
     "iopub.execute_input": "2020-08-29T20:14:25.091142Z",
     "iopub.status.busy": "2020-08-29T20:14:25.090359Z",
     "iopub.status.idle": "2020-08-29T20:14:25.739852Z",
     "shell.execute_reply": "2020-08-29T20:14:25.739177Z"
    },
    "papermill": {
     "duration": 0.674126,
     "end_time": "2020-08-29T20:14:25.739991",
     "exception": false,
     "start_time": "2020-08-29T20:14:25.065865",
     "status": "completed"
    },
    "tags": []
   },
   "outputs": [],
   "source": [
    "train['tweet']=train['tweet'].apply(lambda x: \" \".join(x) )\n",
    "test['tweet']=test['tweet'].apply(lambda x: \" \".join(x) )\n",
    "\n",
    "X_train = cv.fit_transform(train['tweet'])"
   ]
  },
  {
   "cell_type": "code",
   "execution_count": 16,
   "metadata": {
    "execution": {
     "iopub.execute_input": "2020-08-29T20:14:25.782222Z",
     "iopub.status.busy": "2020-08-29T20:14:25.781199Z",
     "iopub.status.idle": "2020-08-29T20:14:25.785585Z",
     "shell.execute_reply": "2020-08-29T20:14:25.786157Z"
    },
    "papermill": {
     "duration": 0.028437,
     "end_time": "2020-08-29T20:14:25.786321",
     "exception": false,
     "start_time": "2020-08-29T20:14:25.757884",
     "status": "completed"
    },
    "tags": []
   },
   "outputs": [
    {
     "data": {
      "text/plain": [
       "<31962x1500 sparse matrix of type '<class 'numpy.int64'>'\n",
       "\twith 138902 stored elements in Compressed Sparse Row format>"
      ]
     },
     "execution_count": 16,
     "metadata": {},
     "output_type": "execute_result"
    }
   ],
   "source": [
    "X_train"
   ]
  },
  {
   "cell_type": "code",
   "execution_count": 17,
   "metadata": {
    "execution": {
     "iopub.execute_input": "2020-08-29T20:14:25.833292Z",
     "iopub.status.busy": "2020-08-29T20:14:25.832315Z",
     "iopub.status.idle": "2020-08-29T20:14:25.837101Z",
     "shell.execute_reply": "2020-08-29T20:14:25.836274Z"
    },
    "papermill": {
     "duration": 0.03275,
     "end_time": "2020-08-29T20:14:25.837244",
     "exception": false,
     "start_time": "2020-08-29T20:14:25.804494",
     "status": "completed"
    },
    "tags": []
   },
   "outputs": [
    {
     "data": {
      "text/html": [
       "<div>\n",
       "<style scoped>\n",
       "    .dataframe tbody tr th:only-of-type {\n",
       "        vertical-align: middle;\n",
       "    }\n",
       "\n",
       "    .dataframe tbody tr th {\n",
       "        vertical-align: top;\n",
       "    }\n",
       "\n",
       "    .dataframe thead th {\n",
       "        text-align: right;\n",
       "    }\n",
       "</style>\n",
       "<table border=\"1\" class=\"dataframe\">\n",
       "  <thead>\n",
       "    <tr style=\"text-align: right;\">\n",
       "      <th></th>\n",
       "      <th>label</th>\n",
       "    </tr>\n",
       "  </thead>\n",
       "  <tbody>\n",
       "    <tr>\n",
       "      <th>0</th>\n",
       "      <td>0</td>\n",
       "    </tr>\n",
       "    <tr>\n",
       "      <th>1</th>\n",
       "      <td>0</td>\n",
       "    </tr>\n",
       "    <tr>\n",
       "      <th>2</th>\n",
       "      <td>0</td>\n",
       "    </tr>\n",
       "    <tr>\n",
       "      <th>3</th>\n",
       "      <td>0</td>\n",
       "    </tr>\n",
       "    <tr>\n",
       "      <th>4</th>\n",
       "      <td>0</td>\n",
       "    </tr>\n",
       "  </tbody>\n",
       "</table>\n",
       "</div>"
      ],
      "text/plain": [
       "   label\n",
       "0      0\n",
       "1      0\n",
       "2      0\n",
       "3      0\n",
       "4      0"
      ]
     },
     "execution_count": 17,
     "metadata": {},
     "output_type": "execute_result"
    }
   ],
   "source": [
    "Y_train=pd.DataFrame(train['label'])\n",
    "Y_train.head()"
   ]
  },
  {
   "cell_type": "markdown",
   "execution_count": null,
   "metadata": {
    "papermill": {
     "duration": 0.01792,
     "end_time": "2020-08-29T20:14:25.873975",
     "exception": false,
     "start_time": "2020-08-29T20:14:25.856055",
     "status": "completed"
    },
    "tags": []
   },
   "source": [
    "Splitting dataset!"
   ]
  },
  {
   "cell_type": "code",
   "execution_count": 18,
   "metadata": {
    "execution": {
     "iopub.execute_input": "2020-08-29T20:14:25.917198Z",
     "iopub.status.busy": "2020-08-29T20:14:25.916357Z",
     "iopub.status.idle": "2020-08-29T20:14:25.926817Z",
     "shell.execute_reply": "2020-08-29T20:14:25.926109Z"
    },
    "papermill": {
     "duration": 0.034514,
     "end_time": "2020-08-29T20:14:25.926964",
     "exception": false,
     "start_time": "2020-08-29T20:14:25.892450",
     "status": "completed"
    },
    "tags": []
   },
   "outputs": [],
   "source": [
    "from sklearn.model_selection import train_test_split\n",
    "x_train, x_test, y_train, y_test = train_test_split(X_train, Y_train, test_size=0.3)"
   ]
  },
  {
   "cell_type": "code",
   "execution_count": 19,
   "metadata": {
    "execution": {
     "iopub.execute_input": "2020-08-29T20:14:25.970040Z",
     "iopub.status.busy": "2020-08-29T20:14:25.969073Z",
     "iopub.status.idle": "2020-08-29T20:14:25.973494Z",
     "shell.execute_reply": "2020-08-29T20:14:25.972769Z"
    },
    "papermill": {
     "duration": 0.028097,
     "end_time": "2020-08-29T20:14:25.973619",
     "exception": false,
     "start_time": "2020-08-29T20:14:25.945522",
     "status": "completed"
    },
    "tags": []
   },
   "outputs": [
    {
     "data": {
      "text/plain": [
       "(9589, 1500)"
      ]
     },
     "execution_count": 19,
     "metadata": {},
     "output_type": "execute_result"
    }
   ],
   "source": [
    "x_test.shape"
   ]
  },
  {
   "cell_type": "markdown",
   "execution_count": null,
   "metadata": {
    "papermill": {
     "duration": 0.019582,
     "end_time": "2020-08-29T20:14:26.011929",
     "exception": false,
     "start_time": "2020-08-29T20:14:25.992347",
     "status": "completed"
    },
    "tags": []
   },
   "source": [
    "Naive Bayes Classifier"
   ]
  },
  {
   "cell_type": "code",
   "execution_count": 20,
   "metadata": {
    "execution": {
     "iopub.execute_input": "2020-08-29T20:14:26.055789Z",
     "iopub.status.busy": "2020-08-29T20:14:26.054978Z",
     "iopub.status.idle": "2020-08-29T20:14:26.072600Z",
     "shell.execute_reply": "2020-08-29T20:14:26.071597Z"
    },
    "papermill": {
     "duration": 0.042103,
     "end_time": "2020-08-29T20:14:26.072777",
     "exception": false,
     "start_time": "2020-08-29T20:14:26.030674",
     "status": "completed"
    },
    "tags": []
   },
   "outputs": [
    {
     "name": "stderr",
     "output_type": "stream",
     "text": [
      "/opt/conda/lib/python3.7/site-packages/sklearn/utils/validation.py:72: DataConversionWarning: A column-vector y was passed when a 1d array was expected. Please change the shape of y to (n_samples, ), for example using ravel().\n",
      "  return f(**kwargs)\n"
     ]
    }
   ],
   "source": [
    "from sklearn.naive_bayes import MultinomialNB\n",
    "z=MultinomialNB()\n",
    "z.fit(x_train,y_train)\n",
    "\n",
    "pred=z.predict(x_test)"
   ]
  },
  {
   "cell_type": "code",
   "execution_count": 21,
   "metadata": {
    "execution": {
     "iopub.execute_input": "2020-08-29T20:14:26.120807Z",
     "iopub.status.busy": "2020-08-29T20:14:26.119958Z",
     "iopub.status.idle": "2020-08-29T20:14:26.145660Z",
     "shell.execute_reply": "2020-08-29T20:14:26.144831Z"
    },
    "papermill": {
     "duration": 0.053445,
     "end_time": "2020-08-29T20:14:26.145796",
     "exception": false,
     "start_time": "2020-08-29T20:14:26.092351",
     "status": "completed"
    },
    "tags": []
   },
   "outputs": [
    {
     "name": "stdout",
     "output_type": "stream",
     "text": [
      "[[8671  263]\n",
      " [ 299  356]]\n",
      "0.9413911773907603\n"
     ]
    }
   ],
   "source": [
    "from sklearn.metrics import confusion_matrix,classification_report\n",
    "from sklearn.metrics import accuracy_score\n",
    "cm=confusion_matrix(y_test,pred)\n",
    "print(cm)\n",
    "score = accuracy_score( y_test, pred)\n",
    "print(score)\n"
   ]
  },
  {
   "cell_type": "markdown",
   "execution_count": null,
   "metadata": {
    "papermill": {
     "duration": 0.023347,
     "end_time": "2020-08-29T20:14:26.188718",
     "exception": false,
     "start_time": "2020-08-29T20:14:26.165371",
     "status": "completed"
    },
    "tags": []
   },
   "source": [
    "K-neighbor Classifier"
   ]
  },
  {
   "cell_type": "code",
   "execution_count": 22,
   "metadata": {
    "execution": {
     "iopub.execute_input": "2020-08-29T20:14:26.237316Z",
     "iopub.status.busy": "2020-08-29T20:14:26.236473Z",
     "iopub.status.idle": "2020-08-29T20:14:33.521104Z",
     "shell.execute_reply": "2020-08-29T20:14:33.520426Z"
    },
    "papermill": {
     "duration": 7.313239,
     "end_time": "2020-08-29T20:14:33.521229",
     "exception": false,
     "start_time": "2020-08-29T20:14:26.207990",
     "status": "completed"
    },
    "tags": []
   },
   "outputs": [
    {
     "name": "stderr",
     "output_type": "stream",
     "text": [
      "/opt/conda/lib/python3.7/site-packages/ipykernel_launcher.py:3: DataConversionWarning: A column-vector y was passed when a 1d array was expected. Please change the shape of y to (n_samples, ), for example using ravel().\n",
      "  This is separate from the ipykernel package so we can avoid doing imports until\n"
     ]
    }
   ],
   "source": [
    "from sklearn.neighbors import KNeighborsClassifier\n",
    "classifier = KNeighborsClassifier(n_neighbors=5, metric='minkowski', p=2)\n",
    "classifier.fit(x_train, y_train)\n",
    "\n",
    "#predicting test results\n",
    "pred = classifier.predict(x_test)"
   ]
  },
  {
   "cell_type": "code",
   "execution_count": 23,
   "metadata": {
    "execution": {
     "iopub.execute_input": "2020-08-29T20:14:33.566717Z",
     "iopub.status.busy": "2020-08-29T20:14:33.565948Z",
     "iopub.status.idle": "2020-08-29T20:14:33.588968Z",
     "shell.execute_reply": "2020-08-29T20:14:33.587464Z"
    },
    "papermill": {
     "duration": 0.048796,
     "end_time": "2020-08-29T20:14:33.589147",
     "exception": false,
     "start_time": "2020-08-29T20:14:33.540351",
     "status": "completed"
    },
    "tags": []
   },
   "outputs": [
    {
     "name": "stdout",
     "output_type": "stream",
     "text": [
      "[[8861   73]\n",
      " [ 481  174]]\n",
      "0.9422254666805715\n"
     ]
    }
   ],
   "source": [
    "from sklearn.metrics import confusion_matrix,classification_report\n",
    "cm=confusion_matrix(y_test,pred)\n",
    "print(cm)\n",
    "score = accuracy_score( y_test, pred)\n",
    "print(score)\n"
   ]
  },
  {
   "cell_type": "markdown",
   "execution_count": null,
   "metadata": {
    "papermill": {
     "duration": 0.019142,
     "end_time": "2020-08-29T20:14:33.627965",
     "exception": false,
     "start_time": "2020-08-29T20:14:33.608823",
     "status": "completed"
    },
    "tags": []
   },
   "source": [
    "Random Forest Classifier"
   ]
  },
  {
   "cell_type": "code",
   "execution_count": 24,
   "metadata": {
    "execution": {
     "iopub.execute_input": "2020-08-29T20:14:33.673279Z",
     "iopub.status.busy": "2020-08-29T20:14:33.672481Z",
     "iopub.status.idle": "2020-08-29T20:14:48.896938Z",
     "shell.execute_reply": "2020-08-29T20:14:48.896134Z"
    },
    "papermill": {
     "duration": 15.249786,
     "end_time": "2020-08-29T20:14:48.897074",
     "exception": false,
     "start_time": "2020-08-29T20:14:33.647288",
     "status": "completed"
    },
    "tags": []
   },
   "outputs": [
    {
     "name": "stderr",
     "output_type": "stream",
     "text": [
      "/opt/conda/lib/python3.7/site-packages/ipykernel_launcher.py:3: DataConversionWarning: A column-vector y was passed when a 1d array was expected. Please change the shape of y to (n_samples,), for example using ravel().\n",
      "  This is separate from the ipykernel package so we can avoid doing imports until\n"
     ]
    }
   ],
   "source": [
    "from sklearn.ensemble import RandomForestClassifier\n",
    "classifier = RandomForestClassifier( n_estimators=100 ,criterion='entropy', random_state=0)\n",
    "classifier.fit(x_train, y_train)\n",
    "\n",
    "#predicting test results\n",
    "pred = classifier.predict(x_test)"
   ]
  },
  {
   "cell_type": "code",
   "execution_count": 25,
   "metadata": {
    "execution": {
     "iopub.execute_input": "2020-08-29T20:14:48.943268Z",
     "iopub.status.busy": "2020-08-29T20:14:48.942156Z",
     "iopub.status.idle": "2020-08-29T20:14:48.966721Z",
     "shell.execute_reply": "2020-08-29T20:14:48.965557Z"
    },
    "papermill": {
     "duration": 0.050347,
     "end_time": "2020-08-29T20:14:48.966872",
     "exception": false,
     "start_time": "2020-08-29T20:14:48.916525",
     "status": "completed"
    },
    "tags": []
   },
   "outputs": [
    {
     "name": "stdout",
     "output_type": "stream",
     "text": [
      "[[8740  194]\n",
      " [ 317  338]]\n",
      "0.9467097716133069\n"
     ]
    }
   ],
   "source": [
    "from sklearn.metrics import confusion_matrix,classification_report\n",
    "cm=confusion_matrix(y_test,pred)\n",
    "print(cm)\n",
    "score = accuracy_score( y_test, pred)\n",
    "print(score)"
   ]
  },
  {
   "cell_type": "markdown",
   "execution_count": null,
   "metadata": {
    "papermill": {
     "duration": 0.019425,
     "end_time": "2020-08-29T20:14:49.006086",
     "exception": false,
     "start_time": "2020-08-29T20:14:48.986661",
     "status": "completed"
    },
    "tags": []
   },
   "source": [
    "Logistic Regression Classifier"
   ]
  },
  {
   "cell_type": "code",
   "execution_count": 26,
   "metadata": {
    "execution": {
     "iopub.execute_input": "2020-08-29T20:14:49.053602Z",
     "iopub.status.busy": "2020-08-29T20:14:49.052564Z",
     "iopub.status.idle": "2020-08-29T20:14:49.268278Z",
     "shell.execute_reply": "2020-08-29T20:14:49.267516Z"
    },
    "papermill": {
     "duration": 0.241741,
     "end_time": "2020-08-29T20:14:49.268406",
     "exception": false,
     "start_time": "2020-08-29T20:14:49.026665",
     "status": "completed"
    },
    "tags": []
   },
   "outputs": [
    {
     "name": "stderr",
     "output_type": "stream",
     "text": [
      "/opt/conda/lib/python3.7/site-packages/sklearn/utils/validation.py:72: DataConversionWarning: A column-vector y was passed when a 1d array was expected. Please change the shape of y to (n_samples, ), for example using ravel().\n",
      "  return f(**kwargs)\n"
     ]
    }
   ],
   "source": [
    "from sklearn.linear_model import LogisticRegression\n",
    "classifier = LogisticRegression(random_state = 0)\n",
    "classifier.fit(x_train, y_train)\n",
    "\n",
    "#predicting test results\n",
    "y_pred = classifier.predict(x_test)"
   ]
  },
  {
   "cell_type": "code",
   "execution_count": 27,
   "metadata": {
    "execution": {
     "iopub.execute_input": "2020-08-29T20:14:49.314865Z",
     "iopub.status.busy": "2020-08-29T20:14:49.313773Z",
     "iopub.status.idle": "2020-08-29T20:14:49.336898Z",
     "shell.execute_reply": "2020-08-29T20:14:49.337460Z"
    },
    "papermill": {
     "duration": 0.049447,
     "end_time": "2020-08-29T20:14:49.337630",
     "exception": false,
     "start_time": "2020-08-29T20:14:49.288183",
     "status": "completed"
    },
    "tags": []
   },
   "outputs": [
    {
     "name": "stdout",
     "output_type": "stream",
     "text": [
      "[[8740  194]\n",
      " [ 317  338]]\n",
      "0.9467097716133069\n"
     ]
    }
   ],
   "source": [
    "from sklearn.metrics import confusion_matrix,classification_report\n",
    "cm=confusion_matrix(y_test,pred)\n",
    "print(cm)\n",
    "score = accuracy_score( y_test, pred)\n",
    "print(score)"
   ]
  },
  {
   "cell_type": "markdown",
   "execution_count": null,
   "metadata": {
    "papermill": {
     "duration": 0.019609,
     "end_time": "2020-08-29T20:14:49.377193",
     "exception": false,
     "start_time": "2020-08-29T20:14:49.357584",
     "status": "completed"
    },
    "tags": []
   },
   "source": [
    "XG Boost Classifier"
   ]
  },
  {
   "cell_type": "code",
   "execution_count": 28,
   "metadata": {
    "execution": {
     "iopub.execute_input": "2020-08-29T20:14:49.423479Z",
     "iopub.status.busy": "2020-08-29T20:14:49.422584Z",
     "iopub.status.idle": "2020-08-29T20:14:51.351225Z",
     "shell.execute_reply": "2020-08-29T20:14:51.352209Z"
    },
    "papermill": {
     "duration": 1.955149,
     "end_time": "2020-08-29T20:14:51.352389",
     "exception": false,
     "start_time": "2020-08-29T20:14:49.397240",
     "status": "completed"
    },
    "tags": []
   },
   "outputs": [
    {
     "name": "stderr",
     "output_type": "stream",
     "text": [
      "/opt/conda/lib/python3.7/site-packages/sklearn/utils/validation.py:72: DataConversionWarning: A column-vector y was passed when a 1d array was expected. Please change the shape of y to (n_samples, ), for example using ravel().\n",
      "  return f(**kwargs)\n"
     ]
    }
   ],
   "source": [
    "from xgboost import XGBClassifier\n",
    "model = XGBClassifier()\n",
    "model.fit(x_train, y_train)\n",
    "y_pred = model.predict(x_test)"
   ]
  },
  {
   "cell_type": "code",
   "execution_count": 29,
   "metadata": {
    "execution": {
     "iopub.execute_input": "2020-08-29T20:14:51.420017Z",
     "iopub.status.busy": "2020-08-29T20:14:51.418999Z",
     "iopub.status.idle": "2020-08-29T20:14:51.436029Z",
     "shell.execute_reply": "2020-08-29T20:14:51.436698Z"
    },
    "papermill": {
     "duration": 0.059773,
     "end_time": "2020-08-29T20:14:51.436899",
     "exception": false,
     "start_time": "2020-08-29T20:14:51.377126",
     "status": "completed"
    },
    "tags": []
   },
   "outputs": [
    {
     "name": "stdout",
     "output_type": "stream",
     "text": [
      "[[8881   53]\n",
      " [ 412  243]]\n",
      "0.9515069350297215\n"
     ]
    }
   ],
   "source": [
    "from sklearn.metrics import confusion_matrix,classification_report\n",
    "cm=confusion_matrix(y_test,y_pred)\n",
    "print(cm)\n",
    "score = accuracy_score( y_test, y_pred)\n",
    "print(score)"
   ]
  },
  {
   "cell_type": "markdown",
   "execution_count": null,
   "metadata": {
    "papermill": {
     "duration": 0.023723,
     "end_time": "2020-08-29T20:14:51.484723",
     "exception": false,
     "start_time": "2020-08-29T20:14:51.461000",
     "status": "completed"
    },
    "tags": []
   },
   "source": [
    "Support Vector Machine Classifier"
   ]
  },
  {
   "cell_type": "code",
   "execution_count": 30,
   "metadata": {
    "execution": {
     "iopub.execute_input": "2020-08-29T20:14:51.540968Z",
     "iopub.status.busy": "2020-08-29T20:14:51.539698Z",
     "iopub.status.idle": "2020-08-29T20:15:29.973682Z",
     "shell.execute_reply": "2020-08-29T20:15:29.973022Z"
    },
    "papermill": {
     "duration": 38.46482,
     "end_time": "2020-08-29T20:15:29.973826",
     "exception": false,
     "start_time": "2020-08-29T20:14:51.509006",
     "status": "completed"
    },
    "tags": []
   },
   "outputs": [],
   "source": [
    "from sklearn.svm import SVC\n",
    "classifier= SVC(kernel='rbf',random_state=0)\n",
    "classifier.fit(x_train,y_train)\n",
    "y_pred = classifier.predict(x_test)"
   ]
  },
  {
   "cell_type": "code",
   "execution_count": 31,
   "metadata": {
    "execution": {
     "iopub.execute_input": "2020-08-29T20:15:30.020816Z",
     "iopub.status.busy": "2020-08-29T20:15:30.019976Z",
     "iopub.status.idle": "2020-08-29T20:15:30.042596Z",
     "shell.execute_reply": "2020-08-29T20:15:30.043278Z"
    },
    "papermill": {
     "duration": 0.049335,
     "end_time": "2020-08-29T20:15:30.043472",
     "exception": false,
     "start_time": "2020-08-29T20:15:29.994137",
     "status": "completed"
    },
    "tags": []
   },
   "outputs": [
    {
     "name": "stdout",
     "output_type": "stream",
     "text": [
      "[[8893   41]\n",
      " [ 428  227]]\n",
      "0.9510897903848159\n"
     ]
    }
   ],
   "source": [
    "cm=confusion_matrix(y_test,y_pred)\n",
    "print(cm)\n",
    "score = accuracy_score( y_test, y_pred)\n",
    "print(score)"
   ]
  },
  {
   "cell_type": "markdown",
   "execution_count": null,
   "metadata": {
    "papermill": {
     "duration": 0.020333,
     "end_time": "2020-08-29T20:15:30.084170",
     "exception": false,
     "start_time": "2020-08-29T20:15:30.063837",
     "status": "completed"
    },
    "tags": []
   },
   "source": [
    "Deep Learning Classification"
   ]
  },
  {
   "cell_type": "code",
   "execution_count": 32,
   "metadata": {
    "execution": {
     "iopub.execute_input": "2020-08-29T20:15:30.185031Z",
     "iopub.status.busy": "2020-08-29T20:15:30.184229Z",
     "iopub.status.idle": "2020-08-29T20:15:36.279557Z",
     "shell.execute_reply": "2020-08-29T20:15:36.278685Z"
    },
    "papermill": {
     "duration": 6.174635,
     "end_time": "2020-08-29T20:15:36.279699",
     "exception": false,
     "start_time": "2020-08-29T20:15:30.105064",
     "status": "completed"
    },
    "tags": []
   },
   "outputs": [],
   "source": [
    "from tensorflow.keras.preprocessing.text import Tokenizer\n",
    "from tensorflow.keras.preprocessing.sequence import pad_sequences\n",
    "from tensorflow.keras.models import Sequential\n",
    "from tensorflow.keras.layers import LSTM, Dense, Dropout, Embedding, SpatialDropout1D\n",
    "from keras.layers import Bidirectional"
   ]
  },
  {
   "cell_type": "code",
   "execution_count": 33,
   "metadata": {
    "execution": {
     "iopub.execute_input": "2020-08-29T20:15:36.335275Z",
     "iopub.status.busy": "2020-08-29T20:15:36.330062Z",
     "iopub.status.idle": "2020-08-29T20:15:37.743156Z",
     "shell.execute_reply": "2020-08-29T20:15:37.742381Z"
    },
    "papermill": {
     "duration": 1.442817,
     "end_time": "2020-08-29T20:15:37.743279",
     "exception": false,
     "start_time": "2020-08-29T20:15:36.300462",
     "status": "completed"
    },
    "tags": []
   },
   "outputs": [
    {
     "data": {
      "text/plain": [
       "(31962, 220)"
      ]
     },
     "execution_count": 33,
     "metadata": {},
     "output_type": "execute_result"
    }
   ],
   "source": [
    "max_features = 220\n",
    "tokenizer = Tokenizer(num_words = max_features, split = (' '))\n",
    "tokenizer.fit_on_texts(train['tweet'].values)\n",
    "X = tokenizer.texts_to_sequences(train['tweet'].values)\n",
    "# making all the tokens into same sizes using padding.\n",
    "X = pad_sequences(X, maxlen = max_features)\n",
    "X.shape"
   ]
  },
  {
   "cell_type": "code",
   "execution_count": 34,
   "metadata": {
    "execution": {
     "iopub.execute_input": "2020-08-29T20:15:37.790378Z",
     "iopub.status.busy": "2020-08-29T20:15:37.789262Z",
     "iopub.status.idle": "2020-08-29T20:15:37.792943Z",
     "shell.execute_reply": "2020-08-29T20:15:37.792162Z"
    },
    "papermill": {
     "duration": 0.029339,
     "end_time": "2020-08-29T20:15:37.793077",
     "exception": false,
     "start_time": "2020-08-29T20:15:37.763738",
     "status": "completed"
    },
    "tags": []
   },
   "outputs": [],
   "source": [
    "Y = train['label'].values\n"
   ]
  },
  {
   "cell_type": "code",
   "execution_count": 35,
   "metadata": {
    "execution": {
     "iopub.execute_input": "2020-08-29T20:15:37.844187Z",
     "iopub.status.busy": "2020-08-29T20:15:37.843365Z",
     "iopub.status.idle": "2020-08-29T20:15:38.496019Z",
     "shell.execute_reply": "2020-08-29T20:15:38.495321Z"
    },
    "papermill": {
     "duration": 0.682493,
     "end_time": "2020-08-29T20:15:38.496326",
     "exception": false,
     "start_time": "2020-08-29T20:15:37.813833",
     "status": "completed"
    },
    "tags": []
   },
   "outputs": [],
   "source": [
    "model = Sequential()\n",
    "model.add(Embedding(max_features, 64, input_length = X.shape[1], trainable=False))\n",
    "model.add(Bidirectional(LSTM(128, dropout=0.2, recurrent_dropout=0.2)))\n",
    "model.add(Dense(512, activation='relu'))\n",
    "model.add(Dropout(0.50))\n",
    "model.add(Dense(1, activation='sigmoid'))\n",
    "\n",
    "model.compile(optimizer = 'adam', loss = 'binary_crossentropy', metrics = ['accuracy'])"
   ]
  },
  {
   "cell_type": "code",
   "execution_count": 36,
   "metadata": {
    "execution": {
     "iopub.execute_input": "2020-08-29T20:15:38.545203Z",
     "iopub.status.busy": "2020-08-29T20:15:38.544333Z",
     "iopub.status.idle": "2020-08-29T20:30:26.721290Z",
     "shell.execute_reply": "2020-08-29T20:30:26.720391Z"
    },
    "papermill": {
     "duration": 888.204091,
     "end_time": "2020-08-29T20:30:26.721645",
     "exception": false,
     "start_time": "2020-08-29T20:15:38.517554",
     "status": "completed"
    },
    "tags": []
   },
   "outputs": [
    {
     "name": "stdout",
     "output_type": "stream",
     "text": [
      "Epoch 1/5\n",
      "22/22 [==============================] - 179s 8s/step - loss: 0.3700 - accuracy: 0.8942\n",
      "Epoch 2/5\n",
      "22/22 [==============================] - 163s 7s/step - loss: 0.2588 - accuracy: 0.9299\n",
      "Epoch 3/5\n",
      "22/22 [==============================] - 168s 8s/step - loss: 0.2573 - accuracy: 0.9299\n",
      "Epoch 4/5\n",
      "22/22 [==============================] - 163s 7s/step - loss: 0.2556 - accuracy: 0.9299\n",
      "Epoch 5/5\n",
      "22/22 [==============================] - 163s 7s/step - loss: 0.2539 - accuracy: 0.9299\n"
     ]
    },
    {
     "data": {
      "text/plain": [
       "<tensorflow.python.keras.callbacks.History at 0x7f3f7680bfd0>"
      ]
     },
     "execution_count": 36,
     "metadata": {},
     "output_type": "execute_result"
    }
   ],
   "source": [
    "model.fit(X, Y,batch_size=1500,epochs = 5)"
   ]
  },
  {
   "cell_type": "code",
   "execution_count": 37,
   "metadata": {
    "execution": {
     "iopub.execute_input": "2020-08-29T20:30:26.788811Z",
     "iopub.status.busy": "2020-08-29T20:30:26.787820Z",
     "iopub.status.idle": "2020-08-29T20:31:31.414290Z",
     "shell.execute_reply": "2020-08-29T20:31:31.413532Z"
    },
    "papermill": {
     "duration": 64.663918,
     "end_time": "2020-08-29T20:31:31.414461",
     "exception": false,
     "start_time": "2020-08-29T20:30:26.750543",
     "status": "completed"
    },
    "tags": []
   },
   "outputs": [],
   "source": [
    "prediction = model.predict_classes(X)"
   ]
  },
  {
   "cell_type": "code",
   "execution_count": 38,
   "metadata": {
    "execution": {
     "iopub.execute_input": "2020-08-29T20:31:31.480484Z",
     "iopub.status.busy": "2020-08-29T20:31:31.479714Z",
     "iopub.status.idle": "2020-08-29T20:31:31.488746Z",
     "shell.execute_reply": "2020-08-29T20:31:31.487995Z"
    },
    "papermill": {
     "duration": 0.044079,
     "end_time": "2020-08-29T20:31:31.489017",
     "exception": false,
     "start_time": "2020-08-29T20:31:31.444938",
     "status": "completed"
    },
    "tags": []
   },
   "outputs": [
    {
     "name": "stdout",
     "output_type": "stream",
     "text": [
      "0.9298542018647143\n"
     ]
    }
   ],
   "source": [
    "from sklearn.metrics import accuracy_score\n",
    "score = accuracy_score(Y, prediction)\n",
    "print(score)"
   ]
  },
  {
   "cell_type": "markdown",
   "execution_count": null,
   "metadata": {
    "papermill": {
     "duration": 0.028424,
     "end_time": "2020-08-29T20:31:31.546759",
     "exception": false,
     "start_time": "2020-08-29T20:31:31.518335",
     "status": "completed"
    },
    "tags": []
   },
   "source": [
    "Using Vader Pre-trained model"
   ]
  },
  {
   "cell_type": "code",
   "execution_count": 39,
   "metadata": {
    "execution": {
     "iopub.execute_input": "2020-08-29T20:31:31.624751Z",
     "iopub.status.busy": "2020-08-29T20:31:31.620371Z",
     "iopub.status.idle": "2020-08-29T20:31:51.722816Z",
     "shell.execute_reply": "2020-08-29T20:31:51.723543Z"
    },
    "papermill": {
     "duration": 20.148146,
     "end_time": "2020-08-29T20:31:51.723721",
     "exception": false,
     "start_time": "2020-08-29T20:31:31.575575",
     "status": "completed"
    },
    "tags": []
   },
   "outputs": [
    {
     "name": "stdout",
     "output_type": "stream",
     "text": [
      "[nltk_data] Error loading vader_lexicon: <urlopen error [Errno -3]\n",
      "[nltk_data]     Temporary failure in name resolution>\n"
     ]
    },
    {
     "name": "stderr",
     "output_type": "stream",
     "text": [
      "/opt/conda/lib/python3.7/site-packages/nltk/twitter/__init__.py:20: UserWarning: The twython library has not been installed. Some functionality from the twitter package will not be available.\n",
      "  warnings.warn(\"The twython library has not been installed. \"\n"
     ]
    }
   ],
   "source": [
    "import nltk\n",
    "nltk.download('vader_lexicon')\n",
    "from nltk.sentiment.vader import SentimentIntensityAnalyzer\n",
    "\n",
    "sid = SentimentIntensityAnalyzer()"
   ]
  },
  {
   "cell_type": "code",
   "execution_count": 40,
   "metadata": {
    "execution": {
     "iopub.execute_input": "2020-08-29T20:31:51.795756Z",
     "iopub.status.busy": "2020-08-29T20:31:51.788862Z",
     "iopub.status.idle": "2020-08-29T20:31:56.866719Z",
     "shell.execute_reply": "2020-08-29T20:31:56.867331Z"
    },
    "papermill": {
     "duration": 5.114546,
     "end_time": "2020-08-29T20:31:56.867511",
     "exception": false,
     "start_time": "2020-08-29T20:31:51.752965",
     "status": "completed"
    },
    "tags": []
   },
   "outputs": [
    {
     "data": {
      "text/html": [
       "<div>\n",
       "<style scoped>\n",
       "    .dataframe tbody tr th:only-of-type {\n",
       "        vertical-align: middle;\n",
       "    }\n",
       "\n",
       "    .dataframe tbody tr th {\n",
       "        vertical-align: top;\n",
       "    }\n",
       "\n",
       "    .dataframe thead th {\n",
       "        text-align: right;\n",
       "    }\n",
       "</style>\n",
       "<table border=\"1\" class=\"dataframe\">\n",
       "  <thead>\n",
       "    <tr style=\"text-align: right;\">\n",
       "      <th></th>\n",
       "      <th>id</th>\n",
       "      <th>label</th>\n",
       "      <th>tweet</th>\n",
       "      <th>score</th>\n",
       "    </tr>\n",
       "  </thead>\n",
       "  <tbody>\n",
       "    <tr>\n",
       "      <th>0</th>\n",
       "      <td>1</td>\n",
       "      <td>0</td>\n",
       "      <td>father dysfunct selfish drag kid dysfunct</td>\n",
       "      <td>{'neg': 0.556, 'neu': 0.444, 'pos': 0.0, 'comp...</td>\n",
       "    </tr>\n",
       "    <tr>\n",
       "      <th>1</th>\n",
       "      <td>2</td>\n",
       "      <td>0</td>\n",
       "      <td>thank lyft credit can't caus offer wheelchair ...</td>\n",
       "      <td>{'neg': 0.0, 'neu': 0.611, 'pos': 0.389, 'comp...</td>\n",
       "    </tr>\n",
       "    <tr>\n",
       "      <th>2</th>\n",
       "      <td>3</td>\n",
       "      <td>0</td>\n",
       "      <td>bihday majesti</td>\n",
       "      <td>{'neg': 0.0, 'neu': 1.0, 'pos': 0.0, 'compound...</td>\n",
       "    </tr>\n",
       "    <tr>\n",
       "      <th>3</th>\n",
       "      <td>4</td>\n",
       "      <td>0</td>\n",
       "      <td>model love take time</td>\n",
       "      <td>{'neg': 0.0, 'neu': 0.417, 'pos': 0.583, 'comp...</td>\n",
       "    </tr>\n",
       "    <tr>\n",
       "      <th>4</th>\n",
       "      <td>5</td>\n",
       "      <td>0</td>\n",
       "      <td>factsguid societi motiv</td>\n",
       "      <td>{'neg': 0.0, 'neu': 1.0, 'pos': 0.0, 'compound...</td>\n",
       "    </tr>\n",
       "  </tbody>\n",
       "</table>\n",
       "</div>"
      ],
      "text/plain": [
       "   id  label                                              tweet  \\\n",
       "0   1      0          father dysfunct selfish drag kid dysfunct   \n",
       "1   2      0  thank lyft credit can't caus offer wheelchair ...   \n",
       "2   3      0                                     bihday majesti   \n",
       "3   4      0                               model love take time   \n",
       "4   5      0                            factsguid societi motiv   \n",
       "\n",
       "                                               score  \n",
       "0  {'neg': 0.556, 'neu': 0.444, 'pos': 0.0, 'comp...  \n",
       "1  {'neg': 0.0, 'neu': 0.611, 'pos': 0.389, 'comp...  \n",
       "2  {'neg': 0.0, 'neu': 1.0, 'pos': 0.0, 'compound...  \n",
       "3  {'neg': 0.0, 'neu': 0.417, 'pos': 0.583, 'comp...  \n",
       "4  {'neg': 0.0, 'neu': 1.0, 'pos': 0.0, 'compound...  "
      ]
     },
     "execution_count": 40,
     "metadata": {},
     "output_type": "execute_result"
    }
   ],
   "source": [
    "train['score']=train['tweet'].apply(lambda tweet: sid.polarity_scores(tweet))\n",
    "train.head()\n"
   ]
  },
  {
   "cell_type": "code",
   "execution_count": 41,
   "metadata": {
    "execution": {
     "iopub.execute_input": "2020-08-29T20:31:56.951263Z",
     "iopub.status.busy": "2020-08-29T20:31:56.935101Z",
     "iopub.status.idle": "2020-08-29T20:31:56.968346Z",
     "shell.execute_reply": "2020-08-29T20:31:56.967729Z"
    },
    "papermill": {
     "duration": 0.069682,
     "end_time": "2020-08-29T20:31:56.968497",
     "exception": false,
     "start_time": "2020-08-29T20:31:56.898815",
     "status": "completed"
    },
    "tags": []
   },
   "outputs": [
    {
     "data": {
      "text/html": [
       "<div>\n",
       "<style scoped>\n",
       "    .dataframe tbody tr th:only-of-type {\n",
       "        vertical-align: middle;\n",
       "    }\n",
       "\n",
       "    .dataframe tbody tr th {\n",
       "        vertical-align: top;\n",
       "    }\n",
       "\n",
       "    .dataframe thead th {\n",
       "        text-align: right;\n",
       "    }\n",
       "</style>\n",
       "<table border=\"1\" class=\"dataframe\">\n",
       "  <thead>\n",
       "    <tr style=\"text-align: right;\">\n",
       "      <th></th>\n",
       "      <th>id</th>\n",
       "      <th>label</th>\n",
       "      <th>tweet</th>\n",
       "      <th>score</th>\n",
       "      <th>compound</th>\n",
       "    </tr>\n",
       "  </thead>\n",
       "  <tbody>\n",
       "    <tr>\n",
       "      <th>0</th>\n",
       "      <td>1</td>\n",
       "      <td>0</td>\n",
       "      <td>father dysfunct selfish drag kid dysfunct</td>\n",
       "      <td>{'neg': 0.556, 'neu': 0.444, 'pos': 0.0, 'comp...</td>\n",
       "      <td>-0.6124</td>\n",
       "    </tr>\n",
       "    <tr>\n",
       "      <th>1</th>\n",
       "      <td>2</td>\n",
       "      <td>0</td>\n",
       "      <td>thank lyft credit can't caus offer wheelchair ...</td>\n",
       "      <td>{'neg': 0.0, 'neu': 0.611, 'pos': 0.389, 'comp...</td>\n",
       "      <td>0.6249</td>\n",
       "    </tr>\n",
       "    <tr>\n",
       "      <th>2</th>\n",
       "      <td>3</td>\n",
       "      <td>0</td>\n",
       "      <td>bihday majesti</td>\n",
       "      <td>{'neg': 0.0, 'neu': 1.0, 'pos': 0.0, 'compound...</td>\n",
       "      <td>0.0000</td>\n",
       "    </tr>\n",
       "    <tr>\n",
       "      <th>3</th>\n",
       "      <td>4</td>\n",
       "      <td>0</td>\n",
       "      <td>model love take time</td>\n",
       "      <td>{'neg': 0.0, 'neu': 0.417, 'pos': 0.583, 'comp...</td>\n",
       "      <td>0.6369</td>\n",
       "    </tr>\n",
       "    <tr>\n",
       "      <th>4</th>\n",
       "      <td>5</td>\n",
       "      <td>0</td>\n",
       "      <td>factsguid societi motiv</td>\n",
       "      <td>{'neg': 0.0, 'neu': 1.0, 'pos': 0.0, 'compound...</td>\n",
       "      <td>0.0000</td>\n",
       "    </tr>\n",
       "  </tbody>\n",
       "</table>\n",
       "</div>"
      ],
      "text/plain": [
       "   id  label                                              tweet  \\\n",
       "0   1      0          father dysfunct selfish drag kid dysfunct   \n",
       "1   2      0  thank lyft credit can't caus offer wheelchair ...   \n",
       "2   3      0                                     bihday majesti   \n",
       "3   4      0                               model love take time   \n",
       "4   5      0                            factsguid societi motiv   \n",
       "\n",
       "                                               score  compound  \n",
       "0  {'neg': 0.556, 'neu': 0.444, 'pos': 0.0, 'comp...   -0.6124  \n",
       "1  {'neg': 0.0, 'neu': 0.611, 'pos': 0.389, 'comp...    0.6249  \n",
       "2  {'neg': 0.0, 'neu': 1.0, 'pos': 0.0, 'compound...    0.0000  \n",
       "3  {'neg': 0.0, 'neu': 0.417, 'pos': 0.583, 'comp...    0.6369  \n",
       "4  {'neg': 0.0, 'neu': 1.0, 'pos': 0.0, 'compound...    0.0000  "
      ]
     },
     "execution_count": 41,
     "metadata": {},
     "output_type": "execute_result"
    }
   ],
   "source": [
    "train['compound']  = train['score'].apply(lambda score_dict: score_dict['compound'])\n",
    "train.head()"
   ]
  },
  {
   "cell_type": "code",
   "execution_count": 42,
   "metadata": {
    "execution": {
     "iopub.execute_input": "2020-08-29T20:31:57.075004Z",
     "iopub.status.busy": "2020-08-29T20:31:57.074090Z",
     "iopub.status.idle": "2020-08-29T20:31:57.079015Z",
     "shell.execute_reply": "2020-08-29T20:31:57.078264Z"
    },
    "papermill": {
     "duration": 0.081106,
     "end_time": "2020-08-29T20:31:57.079141",
     "exception": false,
     "start_time": "2020-08-29T20:31:56.998035",
     "status": "completed"
    },
    "tags": []
   },
   "outputs": [
    {
     "data": {
      "text/html": [
       "<div>\n",
       "<style scoped>\n",
       "    .dataframe tbody tr th:only-of-type {\n",
       "        vertical-align: middle;\n",
       "    }\n",
       "\n",
       "    .dataframe tbody tr th {\n",
       "        vertical-align: top;\n",
       "    }\n",
       "\n",
       "    .dataframe thead th {\n",
       "        text-align: right;\n",
       "    }\n",
       "</style>\n",
       "<table border=\"1\" class=\"dataframe\">\n",
       "  <thead>\n",
       "    <tr style=\"text-align: right;\">\n",
       "      <th></th>\n",
       "      <th>id</th>\n",
       "      <th>label</th>\n",
       "      <th>tweet</th>\n",
       "      <th>score</th>\n",
       "      <th>compound</th>\n",
       "      <th>comp_score</th>\n",
       "    </tr>\n",
       "  </thead>\n",
       "  <tbody>\n",
       "    <tr>\n",
       "      <th>0</th>\n",
       "      <td>1</td>\n",
       "      <td>0</td>\n",
       "      <td>father dysfunct selfish drag kid dysfunct</td>\n",
       "      <td>{'neg': 0.556, 'neu': 0.444, 'pos': 0.0, 'comp...</td>\n",
       "      <td>-0.6124</td>\n",
       "      <td>0</td>\n",
       "    </tr>\n",
       "    <tr>\n",
       "      <th>1</th>\n",
       "      <td>2</td>\n",
       "      <td>0</td>\n",
       "      <td>thank lyft credit can't caus offer wheelchair ...</td>\n",
       "      <td>{'neg': 0.0, 'neu': 0.611, 'pos': 0.389, 'comp...</td>\n",
       "      <td>0.6249</td>\n",
       "      <td>1</td>\n",
       "    </tr>\n",
       "    <tr>\n",
       "      <th>2</th>\n",
       "      <td>3</td>\n",
       "      <td>0</td>\n",
       "      <td>bihday majesti</td>\n",
       "      <td>{'neg': 0.0, 'neu': 1.0, 'pos': 0.0, 'compound...</td>\n",
       "      <td>0.0000</td>\n",
       "      <td>0</td>\n",
       "    </tr>\n",
       "    <tr>\n",
       "      <th>3</th>\n",
       "      <td>4</td>\n",
       "      <td>0</td>\n",
       "      <td>model love take time</td>\n",
       "      <td>{'neg': 0.0, 'neu': 0.417, 'pos': 0.583, 'comp...</td>\n",
       "      <td>0.6369</td>\n",
       "      <td>1</td>\n",
       "    </tr>\n",
       "    <tr>\n",
       "      <th>4</th>\n",
       "      <td>5</td>\n",
       "      <td>0</td>\n",
       "      <td>factsguid societi motiv</td>\n",
       "      <td>{'neg': 0.0, 'neu': 1.0, 'pos': 0.0, 'compound...</td>\n",
       "      <td>0.0000</td>\n",
       "      <td>0</td>\n",
       "    </tr>\n",
       "  </tbody>\n",
       "</table>\n",
       "</div>"
      ],
      "text/plain": [
       "   id  label                                              tweet  \\\n",
       "0   1      0          father dysfunct selfish drag kid dysfunct   \n",
       "1   2      0  thank lyft credit can't caus offer wheelchair ...   \n",
       "2   3      0                                     bihday majesti   \n",
       "3   4      0                               model love take time   \n",
       "4   5      0                            factsguid societi motiv   \n",
       "\n",
       "                                               score  compound  comp_score  \n",
       "0  {'neg': 0.556, 'neu': 0.444, 'pos': 0.0, 'comp...   -0.6124           0  \n",
       "1  {'neg': 0.0, 'neu': 0.611, 'pos': 0.389, 'comp...    0.6249           1  \n",
       "2  {'neg': 0.0, 'neu': 1.0, 'pos': 0.0, 'compound...    0.0000           0  \n",
       "3  {'neg': 0.0, 'neu': 0.417, 'pos': 0.583, 'comp...    0.6369           1  \n",
       "4  {'neg': 0.0, 'neu': 1.0, 'pos': 0.0, 'compound...    0.0000           0  "
      ]
     },
     "execution_count": 42,
     "metadata": {},
     "output_type": "execute_result"
    }
   ],
   "source": [
    "train['comp_score'] = train['compound'].apply(lambda c: 1 if c >0 else 0)\n",
    "\n",
    "train.head()"
   ]
  },
  {
   "cell_type": "code",
   "execution_count": 43,
   "metadata": {
    "execution": {
     "iopub.execute_input": "2020-08-29T20:31:57.145722Z",
     "iopub.status.busy": "2020-08-29T20:31:57.144946Z",
     "iopub.status.idle": "2020-08-29T20:31:57.151999Z",
     "shell.execute_reply": "2020-08-29T20:31:57.152619Z"
    },
    "papermill": {
     "duration": 0.043619,
     "end_time": "2020-08-29T20:31:57.152778",
     "exception": false,
     "start_time": "2020-08-29T20:31:57.109159",
     "status": "completed"
    },
    "tags": []
   },
   "outputs": [
    {
     "name": "stdout",
     "output_type": "stream",
     "text": [
      "0.553813904011013\n"
     ]
    }
   ],
   "source": [
    "from sklearn.metrics import accuracy_score\n",
    "score = accuracy_score(train['label'], train['comp_score'])\n",
    "print(score)"
   ]
  }
 ],
 "metadata": {
  "kernelspec": {
   "display_name": "Python 3",
   "language": "python",
   "name": "python3"
  },
  "language_info": {
   "codemirror_mode": {
    "name": "ipython",
    "version": 3
   },
   "file_extension": ".py",
   "mimetype": "text/x-python",
   "name": "python",
   "nbconvert_exporter": "python",
   "pygments_lexer": "ipython3",
   "version": "3.7.6"
  },
  "papermill": {
   "duration": 1091.420366,
   "end_time": "2020-08-29T20:31:58.450697",
   "environment_variables": {},
   "exception": null,
   "input_path": "__notebook__.ipynb",
   "output_path": "__notebook__.ipynb",
   "parameters": {},
   "start_time": "2020-08-29T20:13:47.030331",
   "version": "2.1.0"
  }
 },
 "nbformat": 4,
 "nbformat_minor": 4
}
